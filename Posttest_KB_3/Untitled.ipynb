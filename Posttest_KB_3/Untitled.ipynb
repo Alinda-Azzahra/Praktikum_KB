{
 "cells": [
  {
   "cell_type": "markdown",
   "id": "a3dc7a43",
   "metadata": {},
   "source": [
    "# POSTTEST 3 VISUALISASI DATA\n",
    "## Nama : Alinda Azzahra\n",
    "## NIM    : 2009106092"
   ]
  },
  {
   "cell_type": "code",
   "execution_count": 1,
   "id": "8a6f09fd",
   "metadata": {},
   "outputs": [],
   "source": [
    "import pandas as pd\n",
    "import matplotlib.pyplot as plt\n",
    "import seaborn as sns"
   ]
  },
  {
   "cell_type": "markdown",
   "id": "93c471be",
   "metadata": {},
   "source": [
    "## Data Produksi Mangga di Jawa Barat"
   ]
  },
  {
   "cell_type": "code",
   "execution_count": 2,
   "id": "1e34d7f4",
   "metadata": {},
   "outputs": [
    {
     "data": {
      "text/html": [
       "<div>\n",
       "<style scoped>\n",
       "    .dataframe tbody tr th:only-of-type {\n",
       "        vertical-align: middle;\n",
       "    }\n",
       "\n",
       "    .dataframe tbody tr th {\n",
       "        vertical-align: top;\n",
       "    }\n",
       "\n",
       "    .dataframe thead th {\n",
       "        text-align: right;\n",
       "    }\n",
       "</style>\n",
       "<table border=\"1\" class=\"dataframe\">\n",
       "  <thead>\n",
       "    <tr style=\"text-align: right;\">\n",
       "      <th></th>\n",
       "      <th>id</th>\n",
       "      <th>provinsi</th>\n",
       "      <th>kode_kabupaten_kota</th>\n",
       "      <th>nama_kabupaten_kota</th>\n",
       "      <th>jumlah_produksi</th>\n",
       "      <th>satuan</th>\n",
       "      <th>tahun</th>\n",
       "    </tr>\n",
       "  </thead>\n",
       "  <tbody>\n",
       "    <tr>\n",
       "      <th>0</th>\n",
       "      <td>0</td>\n",
       "      <td>JAWA BARAT</td>\n",
       "      <td>3201</td>\n",
       "      <td>KABUPATEN BOGOR</td>\n",
       "      <td>294050</td>\n",
       "      <td>KUINTAL</td>\n",
       "      <td>2013</td>\n",
       "    </tr>\n",
       "    <tr>\n",
       "      <th>1</th>\n",
       "      <td>1</td>\n",
       "      <td>JAWA BARAT</td>\n",
       "      <td>3202</td>\n",
       "      <td>KABUPATEN SUKABUMI</td>\n",
       "      <td>735710</td>\n",
       "      <td>KUINTAL</td>\n",
       "      <td>2013</td>\n",
       "    </tr>\n",
       "    <tr>\n",
       "      <th>2</th>\n",
       "      <td>2</td>\n",
       "      <td>JAWA BARAT</td>\n",
       "      <td>3203</td>\n",
       "      <td>KABUPATEN CIANJUR</td>\n",
       "      <td>942580</td>\n",
       "      <td>KUINTAL</td>\n",
       "      <td>2013</td>\n",
       "    </tr>\n",
       "    <tr>\n",
       "      <th>3</th>\n",
       "      <td>3</td>\n",
       "      <td>JAWA BARAT</td>\n",
       "      <td>3204</td>\n",
       "      <td>KABUPATEN BANDUNG</td>\n",
       "      <td>428480</td>\n",
       "      <td>KUINTAL</td>\n",
       "      <td>2013</td>\n",
       "    </tr>\n",
       "    <tr>\n",
       "      <th>4</th>\n",
       "      <td>4</td>\n",
       "      <td>JAWA BARAT</td>\n",
       "      <td>3205</td>\n",
       "      <td>KABUPATEN GARUT</td>\n",
       "      <td>1128400</td>\n",
       "      <td>KUINTAL</td>\n",
       "      <td>2013</td>\n",
       "    </tr>\n",
       "    <tr>\n",
       "      <th>...</th>\n",
       "      <td>...</td>\n",
       "      <td>...</td>\n",
       "      <td>...</td>\n",
       "      <td>...</td>\n",
       "      <td>...</td>\n",
       "      <td>...</td>\n",
       "      <td>...</td>\n",
       "    </tr>\n",
       "    <tr>\n",
       "      <th>157</th>\n",
       "      <td>157</td>\n",
       "      <td>JAWA BARAT</td>\n",
       "      <td>3275</td>\n",
       "      <td>KOTA BEKASI</td>\n",
       "      <td>81980</td>\n",
       "      <td>KUINTAL</td>\n",
       "      <td>2018</td>\n",
       "    </tr>\n",
       "    <tr>\n",
       "      <th>158</th>\n",
       "      <td>158</td>\n",
       "      <td>JAWA BARAT</td>\n",
       "      <td>3276</td>\n",
       "      <td>KOTA DEPOK</td>\n",
       "      <td>30020</td>\n",
       "      <td>KUINTAL</td>\n",
       "      <td>2018</td>\n",
       "    </tr>\n",
       "    <tr>\n",
       "      <th>159</th>\n",
       "      <td>159</td>\n",
       "      <td>JAWA BARAT</td>\n",
       "      <td>3277</td>\n",
       "      <td>KOTA CIMAHI</td>\n",
       "      <td>1050</td>\n",
       "      <td>KUINTAL</td>\n",
       "      <td>2018</td>\n",
       "    </tr>\n",
       "    <tr>\n",
       "      <th>160</th>\n",
       "      <td>160</td>\n",
       "      <td>JAWA BARAT</td>\n",
       "      <td>3278</td>\n",
       "      <td>KOTA TASIKMALAYA</td>\n",
       "      <td>44780</td>\n",
       "      <td>KUINTAL</td>\n",
       "      <td>2018</td>\n",
       "    </tr>\n",
       "    <tr>\n",
       "      <th>161</th>\n",
       "      <td>161</td>\n",
       "      <td>JAWA BARAT</td>\n",
       "      <td>3279</td>\n",
       "      <td>KOTA BANJAR</td>\n",
       "      <td>52370</td>\n",
       "      <td>KUINTAL</td>\n",
       "      <td>2018</td>\n",
       "    </tr>\n",
       "  </tbody>\n",
       "</table>\n",
       "<p>162 rows × 7 columns</p>\n",
       "</div>"
      ],
      "text/plain": [
       "      id    provinsi  kode_kabupaten_kota nama_kabupaten_kota  \\\n",
       "0      0  JAWA BARAT                 3201     KABUPATEN BOGOR   \n",
       "1      1  JAWA BARAT                 3202  KABUPATEN SUKABUMI   \n",
       "2      2  JAWA BARAT                 3203   KABUPATEN CIANJUR   \n",
       "3      3  JAWA BARAT                 3204   KABUPATEN BANDUNG   \n",
       "4      4  JAWA BARAT                 3205     KABUPATEN GARUT   \n",
       "..   ...         ...                  ...                 ...   \n",
       "157  157  JAWA BARAT                 3275         KOTA BEKASI   \n",
       "158  158  JAWA BARAT                 3276          KOTA DEPOK   \n",
       "159  159  JAWA BARAT                 3277         KOTA CIMAHI   \n",
       "160  160  JAWA BARAT                 3278    KOTA TASIKMALAYA   \n",
       "161  161  JAWA BARAT                 3279         KOTA BANJAR   \n",
       "\n",
       "     jumlah_produksi   satuan  tahun  \n",
       "0             294050  KUINTAL   2013  \n",
       "1             735710  KUINTAL   2013  \n",
       "2             942580  KUINTAL   2013  \n",
       "3             428480  KUINTAL   2013  \n",
       "4            1128400  KUINTAL   2013  \n",
       "..               ...      ...    ...  \n",
       "157            81980  KUINTAL   2018  \n",
       "158            30020  KUINTAL   2018  \n",
       "159             1050  KUINTAL   2018  \n",
       "160            44780  KUINTAL   2018  \n",
       "161            52370  KUINTAL   2018  \n",
       "\n",
       "[162 rows x 7 columns]"
      ]
     },
     "execution_count": 2,
     "metadata": {},
     "output_type": "execute_result"
    }
   ],
   "source": [
    "df = pd.read_csv('od_mangga.csv')\n",
    "df"
   ]
  },
  {
   "cell_type": "markdown",
   "id": "495c1a16",
   "metadata": {},
   "source": [
    "## Grafik Batang "
   ]
  },
  {
   "cell_type": "code",
   "execution_count": 8,
   "id": "c08f95ee",
   "metadata": {},
   "outputs": [
    {
     "data": {
      "text/plain": [
       "<function matplotlib.pyplot.show(close=None, block=None)>"
      ]
     },
     "execution_count": 8,
     "metadata": {},
     "output_type": "execute_result"
    },
    {
     "data": {
      "image/png": "[encoded data removed]",
      "text/plain": [
       "<Figure size 640x480 with 1 Axes>"
      ]
     },
     "metadata": {},
     "output_type": "display_data"
    }
   ],
   "source": [
    "plt.bar(df['tahun'], df['jumlah_produksi'])\n",
    "plt.title(\"Produksi Mangga di Jawa Barat\")\n",
    "plt.xlabel(\"Tahun\")\n",
    "plt.ylabel(\"Jumlah Produksi\")\n",
    "plt.show"
   ]
  },
  {
   "cell_type": "markdown",
   "id": "1dd194f1",
   "metadata": {},
   "source": [
    "Dari grafik tersebut dapat disimpulkan bahwa pada tahun 2018 Jawa Barat memproduksi banyak mangga dibandingkan dengan tahun - tahun sebelumnya. Dan pada tahun 2015 Jawa Barat memiliki produksi mangga yang paling sedikit bila dibandingkan dengan tahun lainnya. "
   ]
  },
  {
   "cell_type": "markdown",
   "id": "8dfb3b1b",
   "metadata": {},
   "source": [
    "## Grafik Pie"
   ]
  },
  {
   "cell_type": "code",
   "execution_count": 8,
   "id": "1df669ed",
   "metadata": {},
   "outputs": [
    {
     "data": {
      "text/plain": [
       "2013    27\n",
       "2014    27\n",
       "2015    27\n",
       "2016    27\n",
       "2017    27\n",
       "2018    27\n",
       "Name: tahun, dtype: int64"
      ]
     },
     "execution_count": 8,
     "metadata": {},
     "output_type": "execute_result"
    }
   ],
   "source": [
    "df['tahun'].value_counts()"
   ]
  },
  {
   "cell_type": "code",
   "execution_count": 9,
   "id": "d5b860f7",
   "metadata": {},
   "outputs": [],
   "source": [
    "labels = df['tahun'].value_counts().rename_axis(\"Tahun\").reset_index(name='Jumlah')"
   ]
  },
  {
   "cell_type": "code",
   "execution_count": 10,
   "id": "2655292c",
   "metadata": {},
   "outputs": [
    {
     "data": {
      "text/html": [
       "<div>\n",
       "<style scoped>\n",
       "    .dataframe tbody tr th:only-of-type {\n",
       "        vertical-align: middle;\n",
       "    }\n",
       "\n",
       "    .dataframe tbody tr th {\n",
       "        vertical-align: top;\n",
       "    }\n",
       "\n",
       "    .dataframe thead th {\n",
       "        text-align: right;\n",
       "    }\n",
       "</style>\n",
       "<table border=\"1\" class=\"dataframe\">\n",
       "  <thead>\n",
       "    <tr style=\"text-align: right;\">\n",
       "      <th></th>\n",
       "      <th>Tahun</th>\n",
       "      <th>Jumlah</th>\n",
       "    </tr>\n",
       "  </thead>\n",
       "  <tbody>\n",
       "    <tr>\n",
       "      <th>0</th>\n",
       "      <td>2013</td>\n",
       "      <td>27</td>\n",
       "    </tr>\n",
       "    <tr>\n",
       "      <th>1</th>\n",
       "      <td>2014</td>\n",
       "      <td>27</td>\n",
       "    </tr>\n",
       "    <tr>\n",
       "      <th>2</th>\n",
       "      <td>2015</td>\n",
       "      <td>27</td>\n",
       "    </tr>\n",
       "    <tr>\n",
       "      <th>3</th>\n",
       "      <td>2016</td>\n",
       "      <td>27</td>\n",
       "    </tr>\n",
       "    <tr>\n",
       "      <th>4</th>\n",
       "      <td>2017</td>\n",
       "      <td>27</td>\n",
       "    </tr>\n",
       "  </tbody>\n",
       "</table>\n",
       "</div>"
      ],
      "text/plain": [
       "   Tahun  Jumlah\n",
       "0   2013      27\n",
       "1   2014      27\n",
       "2   2015      27\n",
       "3   2016      27\n",
       "4   2017      27"
      ]
     },
     "execution_count": 10,
     "metadata": {},
     "output_type": "execute_result"
    }
   ],
   "source": [
    "labels.head()"
   ]
  },
  {
   "cell_type": "code",
   "execution_count": 11,
   "id": "f13b6e52",
   "metadata": {},
   "outputs": [
    {
     "data": {
      "text/plain": [
       "<function matplotlib.pyplot.show(close=None, block=None)>"
      ]
     },
     "execution_count": 11,
     "metadata": {},
     "output_type": "execute_result"
    },
    {
     "data": {
      "image/png": "[encoded data removed]",
      "text/plain": [
       "<Figure size 500x500 with 1 Axes>"
      ]
     },
     "metadata": {},
     "output_type": "display_data"
    }
   ],
   "source": [
    "plt.figure(figsize=(5, 5))\n",
    "plt.pie(df['tahun'].value_counts(), labels=labels['Tahun'], \n",
    "       autopct='%.1f%%', startangle=90)\n",
    "plt.title(\"Jumlah Tahun\")\n",
    "plt.show"
   ]
  },
  {
   "cell_type": "markdown",
   "id": "96b65c68",
   "metadata": {},
   "source": [
    "Dari grafik tersebut dapat diketahui bahwa total tiap tahun yang terdapat pada dataset itu berjumlah sama, yaitu 16.7% disetiap tahunnya."
   ]
  },
  {
   "cell_type": "markdown",
   "id": "8df9009a",
   "metadata": {},
   "source": [
    "## Data Cuaca di Kobe"
   ]
  },
  {
   "cell_type": "markdown",
   "id": "a7e4eacb",
   "metadata": {},
   "source": [
    "## Grafik Plot & Garis"
   ]
  },
  {
   "cell_type": "code",
   "execution_count": 8,
   "id": "25b49149",
   "metadata": {},
   "outputs": [
    {
     "data": {
      "text/html": [
       "<div>\n",
       "<style scoped>\n",
       "    .dataframe tbody tr th:only-of-type {\n",
       "        vertical-align: middle;\n",
       "    }\n",
       "\n",
       "    .dataframe tbody tr th {\n",
       "        vertical-align: top;\n",
       "    }\n",
       "\n",
       "    .dataframe thead th {\n",
       "        text-align: right;\n",
       "    }\n",
       "</style>\n",
       "<table border=\"1\" class=\"dataframe\">\n",
       "  <thead>\n",
       "    <tr style=\"text-align: right;\">\n",
       "      <th></th>\n",
       "      <th>Date</th>\n",
       "      <th>Precipitation</th>\n",
       "      <th>Temparature</th>\n",
       "      <th>Wind Speed</th>\n",
       "      <th>Humidity</th>\n",
       "      <th>Daylight Hours</th>\n",
       "    </tr>\n",
       "  </thead>\n",
       "  <tbody>\n",
       "    <tr>\n",
       "      <th>0</th>\n",
       "      <td>2020/1/1</td>\n",
       "      <td>0.0</td>\n",
       "      <td>6.5</td>\n",
       "      <td>3.0</td>\n",
       "      <td>56.0</td>\n",
       "      <td>5.0</td>\n",
       "    </tr>\n",
       "    <tr>\n",
       "      <th>1</th>\n",
       "      <td>2020/1/2</td>\n",
       "      <td>0.0</td>\n",
       "      <td>8.4</td>\n",
       "      <td>3.4</td>\n",
       "      <td>58.0</td>\n",
       "      <td>8.0</td>\n",
       "    </tr>\n",
       "    <tr>\n",
       "      <th>2</th>\n",
       "      <td>2020/1/3</td>\n",
       "      <td>0.0</td>\n",
       "      <td>9.7</td>\n",
       "      <td>3.1</td>\n",
       "      <td>57.0</td>\n",
       "      <td>5.5</td>\n",
       "    </tr>\n",
       "    <tr>\n",
       "      <th>3</th>\n",
       "      <td>2020/1/4</td>\n",
       "      <td>0.0</td>\n",
       "      <td>9.4</td>\n",
       "      <td>4.6</td>\n",
       "      <td>56.0</td>\n",
       "      <td>7.2</td>\n",
       "    </tr>\n",
       "    <tr>\n",
       "      <th>4</th>\n",
       "      <td>2020/1/5</td>\n",
       "      <td>0.0</td>\n",
       "      <td>6.7</td>\n",
       "      <td>3.5</td>\n",
       "      <td>63.0</td>\n",
       "      <td>3.3</td>\n",
       "    </tr>\n",
       "    <tr>\n",
       "      <th>...</th>\n",
       "      <td>...</td>\n",
       "      <td>...</td>\n",
       "      <td>...</td>\n",
       "      <td>...</td>\n",
       "      <td>...</td>\n",
       "      <td>...</td>\n",
       "    </tr>\n",
       "    <tr>\n",
       "      <th>361</th>\n",
       "      <td>2020/12/27</td>\n",
       "      <td>1.0</td>\n",
       "      <td>8.0</td>\n",
       "      <td>2.0</td>\n",
       "      <td>59.0</td>\n",
       "      <td>5.9</td>\n",
       "    </tr>\n",
       "    <tr>\n",
       "      <th>362</th>\n",
       "      <td>2020/12/28</td>\n",
       "      <td>7.5</td>\n",
       "      <td>9.3</td>\n",
       "      <td>2.9</td>\n",
       "      <td>78.0</td>\n",
       "      <td>5.3</td>\n",
       "    </tr>\n",
       "    <tr>\n",
       "      <th>363</th>\n",
       "      <td>2020/12/29</td>\n",
       "      <td>0.0</td>\n",
       "      <td>9.5</td>\n",
       "      <td>2.1</td>\n",
       "      <td>69.0</td>\n",
       "      <td>5.1</td>\n",
       "    </tr>\n",
       "    <tr>\n",
       "      <th>364</th>\n",
       "      <td>2020/12/30</td>\n",
       "      <td>3.0</td>\n",
       "      <td>7.4</td>\n",
       "      <td>6.2</td>\n",
       "      <td>73.0</td>\n",
       "      <td>4.1</td>\n",
       "    </tr>\n",
       "    <tr>\n",
       "      <th>365</th>\n",
       "      <td>2020/12/31</td>\n",
       "      <td>0.0</td>\n",
       "      <td>3.0</td>\n",
       "      <td>6.2</td>\n",
       "      <td>61.0</td>\n",
       "      <td>5.8</td>\n",
       "    </tr>\n",
       "  </tbody>\n",
       "</table>\n",
       "<p>366 rows × 6 columns</p>\n",
       "</div>"
      ],
      "text/plain": [
       "           Date  Precipitation  Temparature  Wind Speed  Humidity  \\\n",
       "0      2020/1/1            0.0          6.5         3.0      56.0   \n",
       "1      2020/1/2            0.0          8.4         3.4      58.0   \n",
       "2      2020/1/3            0.0          9.7         3.1      57.0   \n",
       "3      2020/1/4            0.0          9.4         4.6      56.0   \n",
       "4      2020/1/5            0.0          6.7         3.5      63.0   \n",
       "..          ...            ...          ...         ...       ...   \n",
       "361  2020/12/27            1.0          8.0         2.0      59.0   \n",
       "362  2020/12/28            7.5          9.3         2.9      78.0   \n",
       "363  2020/12/29            0.0          9.5         2.1      69.0   \n",
       "364  2020/12/30            3.0          7.4         6.2      73.0   \n",
       "365  2020/12/31            0.0          3.0         6.2      61.0   \n",
       "\n",
       "     Daylight Hours  \n",
       "0               5.0  \n",
       "1               8.0  \n",
       "2               5.5  \n",
       "3               7.2  \n",
       "4               3.3  \n",
       "..              ...  \n",
       "361             5.9  \n",
       "362             5.3  \n",
       "363             5.1  \n",
       "364             4.1  \n",
       "365             5.8  \n",
       "\n",
       "[366 rows x 6 columns]"
      ]
     },
     "execution_count": 8,
     "metadata": {},
     "output_type": "execute_result"
    }
   ],
   "source": [
    "db = pd.read_csv('kobe_weather_2020.csv')\n",
    "db"
   ]
  },
  {
   "cell_type": "code",
   "execution_count": 14,
   "id": "552febca",
   "metadata": {},
   "outputs": [
    {
     "data": {
      "text/plain": [
       "<function matplotlib.pyplot.show(close=None, block=None)>"
      ]
     },
     "execution_count": 14,
     "metadata": {},
     "output_type": "execute_result"
    },
    {
     "data": {
      "image/png": "[encoded data removed]",
      "text/plain": [
       "<Figure size 640x480 with 1 Axes>"
      ]
     },
     "metadata": {},
     "output_type": "display_data"
    }
   ],
   "source": [
    "plt.plot(db['Date'], db['Wind Speed'])\n",
    "plt.title('Data Kecepatan Angin di Kobe')\n",
    "plt.xlabel('Waktu')\n",
    "plt.ylabel('Kecepatan Angin')\n",
    "plt.show"
   ]
  },
  {
   "cell_type": "markdown",
   "id": "303ea79c",
   "metadata": {},
   "source": [
    "Dari grafik tersebut dapat disimpulkan bahwa pada tahun 2020, di Kobe mengalami kecepatan angin yang berada di kecepatan rata - rata 2 sampai 5 kecepatan angin yang terjadi selama setahun. Namun pada suatu waktu, Kobe mengalami kecepatan angin dengan sangat cepat sampai berada pada kecepatan 10 hingga 12. "
   ]
  },
  {
   "cell_type": "markdown",
   "id": "a34471ac",
   "metadata": {},
   "source": [
    "## Menyimpan Dataset"
   ]
  },
  {
   "cell_type": "code",
   "execution_count": 18,
   "id": "e8d65629",
   "metadata": {},
   "outputs": [],
   "source": [
    "df.to_csv(\"Data Produksi Mangga di Jawa Barat.csv\", index=False)"
   ]
  },
  {
   "cell_type": "code",
   "execution_count": 19,
   "id": "a4e1053d",
   "metadata": {},
   "outputs": [],
   "source": [
    "db.to_csv(\"Data Cuaca di Kobe.csv\", index=False)"
   ]
  }
 ],
 "metadata": {
  "kernelspec": {
   "display_name": "Alinda_092",
   "language": "python",
   "name": "alinda_092"
  },
  "language_info": {
   "codemirror_mode": {
    "name": "ipython",
    "version": 3
   },
   "file_extension": ".py",
   "mimetype": "text/x-python",
   "name": "python",
   "nbconvert_exporter": "python",
   "pygments_lexer": "ipython3",
   "version": "3.10.7"
  }
 },
 "nbformat": 4,
 "nbformat_minor": 5
}
