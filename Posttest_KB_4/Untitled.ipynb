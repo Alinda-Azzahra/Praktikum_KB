{
 "cells": [
  {
   "cell_type": "markdown",
   "id": "11f02b71",
   "metadata": {},
   "source": [
    "# Posttest 4\n",
    "## Nama : Alinda Azzahra\n",
    "## NIM : 2009106092"
   ]
  },
  {
   "cell_type": "markdown",
   "id": "35d13b2f",
   "metadata": {},
   "source": [
    "### Import package yang digunakan"
   ]
  },
  {
   "cell_type": "code",
   "execution_count": 1,
   "id": "058645dd",
   "metadata": {},
   "outputs": [],
   "source": [
    "import pandas as pd\n",
    "import numpy as np\n",
    "from sklearn.model_selection import train_test_split"
   ]
  },
  {
   "cell_type": "markdown",
   "id": "9114de39",
   "metadata": {},
   "source": [
    "### Memanggil dataset yang digunakan"
   ]
  },
  {
   "cell_type": "code",
   "execution_count": 2,
   "id": "677370b4",
   "metadata": {},
   "outputs": [
    {
     "data": {
      "text/html": [
       "<div>\n",
       "<style scoped>\n",
       "    .dataframe tbody tr th:only-of-type {\n",
       "        vertical-align: middle;\n",
       "    }\n",
       "\n",
       "    .dataframe tbody tr th {\n",
       "        vertical-align: top;\n",
       "    }\n",
       "\n",
       "    .dataframe thead th {\n",
       "        text-align: right;\n",
       "    }\n",
       "</style>\n",
       "<table border=\"1\" class=\"dataframe\">\n",
       "  <thead>\n",
       "    <tr style=\"text-align: right;\">\n",
       "      <th></th>\n",
       "      <th>ID</th>\n",
       "      <th>GamePSID</th>\n",
       "      <th>GameName</th>\n",
       "      <th>Publisher</th>\n",
       "      <th>ReleaseYear</th>\n",
       "      <th>ReleaseDate</th>\n",
       "      <th>Developer</th>\n",
       "      <th>Genre</th>\n",
       "      <th>Features</th>\n",
       "      <th>Size</th>\n",
       "      <th>Medium</th>\n",
       "      <th>Hardware</th>\n",
       "      <th>CompletionTime(Hours)</th>\n",
       "      <th>is_Digital_game</th>\n",
       "      <th>is_Physical_game</th>\n",
       "      <th>OfficialWebsite</th>\n",
       "    </tr>\n",
       "  </thead>\n",
       "  <tbody>\n",
       "    <tr>\n",
       "      <th>0</th>\n",
       "      <td>1</td>\n",
       "      <td>3045</td>\n",
       "      <td>Q*Bert Rebooted</td>\n",
       "      <td>LOOT Interactive</td>\n",
       "      <td>2015.0</td>\n",
       "      <td>2015-02-17</td>\n",
       "      <td>Gonzo Games</td>\n",
       "      <td>Action</td>\n",
       "      <td>PS Plus, PS Now</td>\n",
       "      <td>109.00</td>\n",
       "      <td>NaN</td>\n",
       "      <td>NaN</td>\n",
       "      <td>NaN</td>\n",
       "      <td>0</td>\n",
       "      <td>0</td>\n",
       "      <td>http://www.sidelineamusements.com/qbert/</td>\n",
       "    </tr>\n",
       "    <tr>\n",
       "      <th>1</th>\n",
       "      <td>2</td>\n",
       "      <td>3051</td>\n",
       "      <td>Q*Bert Rebooted (EU)</td>\n",
       "      <td>LOOT Interactive</td>\n",
       "      <td>2015.0</td>\n",
       "      <td>2015-07-22</td>\n",
       "      <td>LOOT Interactive</td>\n",
       "      <td>Action</td>\n",
       "      <td>PS Now</td>\n",
       "      <td>127.00</td>\n",
       "      <td>Digital only</td>\n",
       "      <td>NaN</td>\n",
       "      <td>NaN</td>\n",
       "      <td>0</td>\n",
       "      <td>0</td>\n",
       "      <td>http://www.sidelineamusements.com/qbert/</td>\n",
       "    </tr>\n",
       "    <tr>\n",
       "      <th>2</th>\n",
       "      <td>3</td>\n",
       "      <td>6703</td>\n",
       "      <td>Q.U.B.E. 2</td>\n",
       "      <td>Trapped Nerve Games</td>\n",
       "      <td>2018.0</td>\n",
       "      <td>2018-03-13</td>\n",
       "      <td>Toxic Games</td>\n",
       "      <td>Puzzle, Platformer</td>\n",
       "      <td>NaN</td>\n",
       "      <td>2682.88</td>\n",
       "      <td>Digital only</td>\n",
       "      <td>NaN</td>\n",
       "      <td>NaN</td>\n",
       "      <td>0</td>\n",
       "      <td>0</td>\n",
       "      <td>http://qube-game.com/</td>\n",
       "    </tr>\n",
       "    <tr>\n",
       "      <th>3</th>\n",
       "      <td>4</td>\n",
       "      <td>3403</td>\n",
       "      <td>Q.U.B.E. Director's Cut</td>\n",
       "      <td>GRIP Digital</td>\n",
       "      <td>2015.0</td>\n",
       "      <td>2015-07-21</td>\n",
       "      <td>Toxic Games</td>\n",
       "      <td>Puzzle, Platformer</td>\n",
       "      <td>PS Plus</td>\n",
       "      <td>1945.60</td>\n",
       "      <td>Digital only</td>\n",
       "      <td>NaN</td>\n",
       "      <td>3-4</td>\n",
       "      <td>0</td>\n",
       "      <td>0</td>\n",
       "      <td>http://qube-game.com/</td>\n",
       "    </tr>\n",
       "    <tr>\n",
       "      <th>4</th>\n",
       "      <td>5</td>\n",
       "      <td>13176</td>\n",
       "      <td>Quake (PS4)</td>\n",
       "      <td>Bethesda Softworks</td>\n",
       "      <td>2021.0</td>\n",
       "      <td>2021-08-19</td>\n",
       "      <td>MachineGames, Nightdive Studios, id Software</td>\n",
       "      <td>First Person Shooter</td>\n",
       "      <td>NaN</td>\n",
       "      <td>NaN</td>\n",
       "      <td>Physical and Digital</td>\n",
       "      <td>NaN</td>\n",
       "      <td>NaN</td>\n",
       "      <td>0</td>\n",
       "      <td>0</td>\n",
       "      <td>https://bethesda.net/en/game/quake</td>\n",
       "    </tr>\n",
       "  </tbody>\n",
       "</table>\n",
       "</div>"
      ],
      "text/plain": [
       "   ID  GamePSID                 GameName            Publisher  ReleaseYear  \\\n",
       "0   1      3045          Q*Bert Rebooted     LOOT Interactive       2015.0   \n",
       "1   2      3051     Q*Bert Rebooted (EU)     LOOT Interactive       2015.0   \n",
       "2   3      6703               Q.U.B.E. 2  Trapped Nerve Games       2018.0   \n",
       "3   4      3403  Q.U.B.E. Director's Cut         GRIP Digital       2015.0   \n",
       "4   5     13176              Quake (PS4)   Bethesda Softworks       2021.0   \n",
       "\n",
       "  ReleaseDate                                     Developer  \\\n",
       "0  2015-02-17                                   Gonzo Games   \n",
       "1  2015-07-22                              LOOT Interactive   \n",
       "2  2018-03-13                                   Toxic Games   \n",
       "3  2015-07-21                                   Toxic Games   \n",
       "4  2021-08-19  MachineGames, Nightdive Studios, id Software   \n",
       "\n",
       "                  Genre         Features     Size                Medium  \\\n",
       "0                Action  PS Plus, PS Now   109.00                   NaN   \n",
       "1                Action           PS Now   127.00          Digital only   \n",
       "2    Puzzle, Platformer              NaN  2682.88          Digital only   \n",
       "3    Puzzle, Platformer          PS Plus  1945.60          Digital only   \n",
       "4  First Person Shooter              NaN      NaN  Physical and Digital   \n",
       "\n",
       "  Hardware CompletionTime(Hours)  is_Digital_game  is_Physical_game  \\\n",
       "0      NaN                   NaN                0                 0   \n",
       "1      NaN                   NaN                0                 0   \n",
       "2      NaN                   NaN                0                 0   \n",
       "3      NaN                   3-4                0                 0   \n",
       "4      NaN                   NaN                0                 0   \n",
       "\n",
       "                            OfficialWebsite  \n",
       "0  http://www.sidelineamusements.com/qbert/  \n",
       "1  http://www.sidelineamusements.com/qbert/  \n",
       "2                     http://qube-game.com/  \n",
       "3                     http://qube-game.com/  \n",
       "4        https://bethesda.net/en/game/quake  "
      ]
     },
     "execution_count": 2,
     "metadata": {},
     "output_type": "execute_result"
    }
   ],
   "source": [
    "db = pd.read_csv('playstation_4_games.csv')\n",
    "db.head(5)"
   ]
  },
  {
   "cell_type": "markdown",
   "id": "7e72bb68",
   "metadata": {},
   "source": [
    "### Melihat total dataset"
   ]
  },
  {
   "cell_type": "code",
   "execution_count": 3,
   "id": "67559f13",
   "metadata": {},
   "outputs": [
    {
     "data": {
      "text/plain": [
       "(9692, 16)"
      ]
     },
     "execution_count": 3,
     "metadata": {},
     "output_type": "execute_result"
    }
   ],
   "source": [
    "db.shape"
   ]
  },
  {
   "cell_type": "markdown",
   "id": "9dd4d001",
   "metadata": {},
   "source": [
    "### Membagi dataset menjadi training set dan testing set"
   ]
  },
  {
   "cell_type": "code",
   "execution_count": 4,
   "id": "5eb7afec",
   "metadata": {},
   "outputs": [],
   "source": [
    "datadb_X = db[['GamePSID', 'GameName', 'Publisher', 'ReleaseYear', 'Genre', 'Size', 'Medium']]\n",
    "labeldb_Y = db['Developer']"
   ]
  },
  {
   "cell_type": "code",
   "execution_count": 5,
   "id": "7cee411d",
   "metadata": {},
   "outputs": [],
   "source": [
    "x_train, x_test, y_train, y_test = train_test_split(datadb_X, labeldb_Y, test_size=.3)"
   ]
  },
  {
   "cell_type": "code",
   "execution_count": 8,
   "id": "45c3f95c",
   "metadata": {},
   "outputs": [
    {
     "name": "stdout",
     "output_type": "stream",
     "text": [
      "Panjang data dari data train adalah 6784 baris\n",
      "Panjang data dari label train adalah 6784 baris\n",
      "Panjang data dari data test adalah 2908 baris\n",
      "Panjang data dari label test adalah 2908 baris\n",
      "Total panjang dari dataset adalah 9692 baris\n"
     ]
    }
   ],
   "source": [
    "print(f'Panjang data dari data train adalah {len(x_train)} baris',\n",
    "      f'Panjang data dari label train adalah {len(y_train)} baris',\n",
    "      f'Panjang data dari data test adalah {len(x_test)} baris',\n",
    "      f'Panjang data dari label test adalah {len(y_test)} baris',\n",
    "      f'Total panjang dari dataset adalah {len(db)} baris',\n",
    "      sep='\\n')"
   ]
  },
  {
   "cell_type": "markdown",
   "id": "70a2a821",
   "metadata": {},
   "source": [
    "## Normalisasi"
   ]
  },
  {
   "cell_type": "code",
   "execution_count": 15,
   "id": "8aa446dc",
   "metadata": {},
   "outputs": [],
   "source": [
    "from sklearn.preprocessing import StandardScaler    \n",
    "from sklearn.preprocessing import MinMaxScaler      \n",
    "import matplotlib.pyplot as plt                     \n",
    "import seaborn as sns                               "
   ]
  },
  {
   "cell_type": "code",
   "execution_count": 16,
   "id": "04132958",
   "metadata": {},
   "outputs": [],
   "source": [
    "db_normalisasi = db.copy()"
   ]
  },
  {
   "cell_type": "code",
   "execution_count": 17,
   "id": "02e4cdff",
   "metadata": {},
   "outputs": [],
   "source": [
    "scaler = MinMaxScaler()"
   ]
  },
  {
   "cell_type": "code",
   "execution_count": 18,
   "id": "41e61b10",
   "metadata": {},
   "outputs": [],
   "source": [
    "normal_db = scaler.fit_transform(db_normalisasi[['GamePSID', 'Size']])"
   ]
  },
  {
   "cell_type": "code",
   "execution_count": 19,
   "id": "a63f1023",
   "metadata": {},
   "outputs": [],
   "source": [
    "normal_db = pd.DataFrame(normal_db)"
   ]
  },
  {
   "cell_type": "code",
   "execution_count": 14,
   "id": "f5acf09e",
   "metadata": {},
   "outputs": [],
   "source": [
    "normal_db.rename(columns={0:'GamePSID', 1:'Size'}, inplace=True)"
   ]
  },
  {
   "cell_type": "markdown",
   "id": "dd21a01c",
   "metadata": {},
   "source": [
    "## Sebelum di normalisasi"
   ]
  },
  {
   "cell_type": "code",
   "execution_count": 22,
   "id": "d047b316",
   "metadata": {},
   "outputs": [
    {
     "data": {
      "image/png": "[encoded data removed]",
      "text/plain": [
       "<Figure size 500x500 with 1 Axes>"
      ]
     },
     "metadata": {},
     "output_type": "display_data"
    }
   ],
   "source": [
    "plt.figure(1, figsize=(5,5))\n",
    "sns.scatterplot(db_normalisasi, x='GamePSID', y='Size', color='red')\n",
    "plt.title('PLAYSTATION 4 GAMES')\n",
    "plt.xlabel('GamePSID')\n",
    "plt.ylabel('Size')\n",
    "plt.show()"
   ]
  },
  {
   "cell_type": "markdown",
   "id": "b4fc386d",
   "metadata": {},
   "source": [
    "## Sesudah di normalisasi"
   ]
  },
  {
   "cell_type": "code",
   "execution_count": 24,
   "id": "06e1e9bc",
   "metadata": {},
   "outputs": [
    {
     "data": {
      "image/png": "[encoded data removed]",
      "text/plain": [
       "<Figure size 500x500 with 1 Axes>"
      ]
     },
     "metadata": {},
     "output_type": "display_data"
    }
   ],
   "source": [
    "plt.figure(1, figsize=(5,5))\n",
    "sns.scatterplot(db_normalisasi, x='GamePSID', y='Size', color='red')\n",
    "plt.title('PLAYSTATION 4 GAMES')\n",
    "plt.xlabel('GamePSID')\n",
    "plt.ylabel('Size')\n",
    "plt.show()"
   ]
  },
  {
   "cell_type": "markdown",
   "id": "fc3cd560",
   "metadata": {},
   "source": [
    "## Standarisasi"
   ]
  },
  {
   "cell_type": "code",
   "execution_count": 25,
   "id": "9cf54ed5",
   "metadata": {},
   "outputs": [],
   "source": [
    "db_standarisasi = db.copy()"
   ]
  },
  {
   "cell_type": "code",
   "execution_count": 26,
   "id": "f1478707",
   "metadata": {},
   "outputs": [],
   "source": [
    "scaler = StandardScaler()"
   ]
  },
  {
   "cell_type": "code",
   "execution_count": 27,
   "id": "e82819f6",
   "metadata": {},
   "outputs": [],
   "source": [
    "data_scaled = scaler.fit_transform(db[['GamePSID', 'ReleaseYear', 'Size']])"
   ]
  },
  {
   "cell_type": "code",
   "execution_count": 29,
   "id": "7a8ffac7",
   "metadata": {},
   "outputs": [
    {
     "name": "stdout",
     "output_type": "stream",
     "text": [
      "Dataset sebelum scalling: \n",
      "Standar Deviasi :  ID                   2796.899552\n",
      "GamePSID             4435.878813\n",
      "ReleaseYear             2.013930\n",
      "Size                18800.660468\n",
      "is_Digital_game         0.000000\n",
      "is_Physical_game        0.000000\n",
      "dtype: float64\n"
     ]
    },
    {
     "name": "stderr",
     "output_type": "stream",
     "text": [
      "C:\\Users\\Acer\\AppData\\Local\\Programs\\Python\\Python310\\lib\\site-packages\\numpy\\core\\fromnumeric.py:3571: FutureWarning: The default value of numeric_only in DataFrame.std is deprecated. In a future version, it will default to False. In addition, specifying 'numeric_only=None' is deprecated. Select only valid columns or specify the value of numeric_only to silence this warning.\n",
      "  return std(axis=axis, dtype=dtype, out=out, ddof=ddof, **kwargs)\n"
     ]
    }
   ],
   "source": [
    "print(\"Dataset sebelum scalling: \")\n",
    "print(\"Standar Deviasi : \", np.std(db))"
   ]
  },
  {
   "cell_type": "code",
   "execution_count": 28,
   "id": "d3f2c865",
   "metadata": {},
   "outputs": [
    {
     "name": "stdout",
     "output_type": "stream",
     "text": [
      "Dataset setelah scalling: \n",
      "Standar Deviasi :  nan\n"
     ]
    }
   ],
   "source": [
    "print(\"Dataset setelah scalling: \")\n",
    "print(\"Standar Deviasi : \", np.std(data_scaled))"
   ]
  },
  {
   "cell_type": "code",
   "execution_count": 30,
   "id": "bf131c27",
   "metadata": {},
   "outputs": [
    {
     "data": {
      "text/html": [
       "<div>\n",
       "<style scoped>\n",
       "    .dataframe tbody tr th:only-of-type {\n",
       "        vertical-align: middle;\n",
       "    }\n",
       "\n",
       "    .dataframe tbody tr th {\n",
       "        vertical-align: top;\n",
       "    }\n",
       "\n",
       "    .dataframe thead th {\n",
       "        text-align: right;\n",
       "    }\n",
       "</style>\n",
       "<table border=\"1\" class=\"dataframe\">\n",
       "  <thead>\n",
       "    <tr style=\"text-align: right;\">\n",
       "      <th></th>\n",
       "      <th>0</th>\n",
       "      <th>1</th>\n",
       "      <th>2</th>\n",
       "    </tr>\n",
       "  </thead>\n",
       "  <tbody>\n",
       "    <tr>\n",
       "      <th>0</th>\n",
       "      <td>-0.992970</td>\n",
       "      <td>-1.745769</td>\n",
       "      <td>-0.271116</td>\n",
       "    </tr>\n",
       "    <tr>\n",
       "      <th>1</th>\n",
       "      <td>-0.991617</td>\n",
       "      <td>-1.745769</td>\n",
       "      <td>-0.270158</td>\n",
       "    </tr>\n",
       "    <tr>\n",
       "      <th>2</th>\n",
       "      <td>-0.168330</td>\n",
       "      <td>-0.256144</td>\n",
       "      <td>-0.134212</td>\n",
       "    </tr>\n",
       "    <tr>\n",
       "      <th>3</th>\n",
       "      <td>-0.912264</td>\n",
       "      <td>-1.745769</td>\n",
       "      <td>-0.173428</td>\n",
       "    </tr>\n",
       "    <tr>\n",
       "      <th>4</th>\n",
       "      <td>1.290907</td>\n",
       "      <td>1.233481</td>\n",
       "      <td>NaN</td>\n",
       "    </tr>\n",
       "    <tr>\n",
       "      <th>...</th>\n",
       "      <td>...</td>\n",
       "      <td>...</td>\n",
       "      <td>...</td>\n",
       "    </tr>\n",
       "    <tr>\n",
       "      <th>9687</th>\n",
       "      <td>0.784356</td>\n",
       "      <td>0.736940</td>\n",
       "      <td>-0.242181</td>\n",
       "    </tr>\n",
       "    <tr>\n",
       "      <th>9688</th>\n",
       "      <td>-0.075677</td>\n",
       "      <td>-0.256144</td>\n",
       "      <td>-0.161445</td>\n",
       "    </tr>\n",
       "    <tr>\n",
       "      <th>9689</th>\n",
       "      <td>-0.076579</td>\n",
       "      <td>-0.256144</td>\n",
       "      <td>-0.161445</td>\n",
       "    </tr>\n",
       "    <tr>\n",
       "      <th>9690</th>\n",
       "      <td>1.503266</td>\n",
       "      <td>1.233481</td>\n",
       "      <td>NaN</td>\n",
       "    </tr>\n",
       "    <tr>\n",
       "      <th>9691</th>\n",
       "      <td>1.503266</td>\n",
       "      <td>1.233481</td>\n",
       "      <td>NaN</td>\n",
       "    </tr>\n",
       "  </tbody>\n",
       "</table>\n",
       "<p>9692 rows × 3 columns</p>\n",
       "</div>"
      ],
      "text/plain": [
       "             0         1         2\n",
       "0    -0.992970 -1.745769 -0.271116\n",
       "1    -0.991617 -1.745769 -0.270158\n",
       "2    -0.168330 -0.256144 -0.134212\n",
       "3    -0.912264 -1.745769 -0.173428\n",
       "4     1.290907  1.233481       NaN\n",
       "...        ...       ...       ...\n",
       "9687  0.784356  0.736940 -0.242181\n",
       "9688 -0.075677 -0.256144 -0.161445\n",
       "9689 -0.076579 -0.256144 -0.161445\n",
       "9690  1.503266  1.233481       NaN\n",
       "9691  1.503266  1.233481       NaN\n",
       "\n",
       "[9692 rows x 3 columns]"
      ]
     },
     "execution_count": 30,
     "metadata": {},
     "output_type": "execute_result"
    }
   ],
   "source": [
    "hasil_standarisasi = pd.DataFrame(data_scaled)\n",
    "hasil_standarisasi"
   ]
  },
  {
   "cell_type": "markdown",
   "id": "89b45862",
   "metadata": {},
   "source": [
    "## Data Cleaning"
   ]
  },
  {
   "cell_type": "markdown",
   "id": "d41cc27c",
   "metadata": {},
   "source": [
    "### Nilai null"
   ]
  },
  {
   "cell_type": "code",
   "execution_count": 36,
   "id": "94c9afa1",
   "metadata": {},
   "outputs": [],
   "source": [
    "from sklearn.impute import SimpleImputer"
   ]
  },
  {
   "cell_type": "code",
   "execution_count": 24,
   "id": "4d42af62",
   "metadata": {},
   "outputs": [
    {
     "name": "stdout",
     "output_type": "stream",
     "text": [
      "ID                          0\n",
      "GamePSID                    0\n",
      "GameName                    0\n",
      "Publisher                 722\n",
      "ReleaseYear               734\n",
      "ReleaseDate               734\n",
      "Developer                 699\n",
      "Genre                     788\n",
      "Features                 7937\n",
      "Size                     2020\n",
      "Medium                    749\n",
      "Hardware                 8174\n",
      "CompletionTime(Hours)    7456\n",
      "is_Digital_game             0\n",
      "is_Physical_game            0\n",
      "OfficialWebsite          1597\n",
      "dtype: int64\n"
     ]
    }
   ],
   "source": [
    "print(db.isna().sum())"
   ]
  },
  {
   "cell_type": "code",
   "execution_count": 31,
   "id": "e987f9a7",
   "metadata": {},
   "outputs": [],
   "source": [
    "db_null = db.copy()"
   ]
  },
  {
   "cell_type": "code",
   "execution_count": 32,
   "id": "9906bf71",
   "metadata": {},
   "outputs": [
    {
     "name": "stdout",
     "output_type": "stream",
     "text": [
      "<class 'pandas.core.frame.DataFrame'>\n",
      "RangeIndex: 9692 entries, 0 to 9691\n",
      "Data columns (total 16 columns):\n",
      " #   Column                 Non-Null Count  Dtype  \n",
      "---  ------                 --------------  -----  \n",
      " 0   ID                     9692 non-null   int64  \n",
      " 1   GamePSID               9692 non-null   int64  \n",
      " 2   GameName               9692 non-null   object \n",
      " 3   Publisher              8968 non-null   object \n",
      " 4   ReleaseYear            8956 non-null   float64\n",
      " 5   ReleaseDate            8956 non-null   object \n",
      " 6   Developer              8991 non-null   object \n",
      " 7   Genre                  8901 non-null   object \n",
      " 8   Features               1750 non-null   object \n",
      " 9   Size                   7669 non-null   float64\n",
      " 10  Medium                 8941 non-null   object \n",
      " 11  Hardware               1512 non-null   object \n",
      " 12  CompletionTime(Hours)  2230 non-null   object \n",
      " 13  is_Digital_game        9692 non-null   int64  \n",
      " 14  is_Physical_game       9692 non-null   int64  \n",
      " 15  OfficialWebsite        8092 non-null   object \n",
      "dtypes: float64(2), int64(4), object(10)\n",
      "memory usage: 1.2+ MB\n"
     ]
    }
   ],
   "source": [
    "db.info()"
   ]
  },
  {
   "cell_type": "code",
   "execution_count": 37,
   "id": "60561b8e",
   "metadata": {},
   "outputs": [],
   "source": [
    "imputer_mean = SimpleImputer(strategy='mean')           \n",
    "imputer_median = SimpleImputer(strategy='median')       \n",
    "imputer_modus = SimpleImputer(strategy='most_frequent') "
   ]
  },
  {
   "cell_type": "code",
   "execution_count": 38,
   "id": "9d312914",
   "metadata": {},
   "outputs": [],
   "source": [
    "db_null['ReleaseYear'] = imputer_mean.fit_transform(db_null[['ReleaseYear']])\n",
    "db_null['Size'] = imputer_mean.fit_transform(db_null[['Size']])\n",
    "db_null['Publisher'] = imputer_modus.fit_transform(db_null[['Publisher']])\n",
    "db_null['ReleaseDate'] = imputer_modus.fit_transform(db_null[['ReleaseDate']])\n",
    "db_null['Developer'] = imputer_modus.fit_transform(db_null[['Developer']])\n",
    "db_null['Genre'] = imputer_modus.fit_transform(db_null[['Genre']])\n",
    "db_null['Features'] = imputer_modus.fit_transform(db_null[['Features']])\n",
    "db_null['Medium'] = imputer_modus.fit_transform(db_null[['Medium']])\n",
    "db_null['Hardware'] = imputer_modus.fit_transform(db_null[['Hardware']])\n",
    "db_null['CompletionTime(Hours)'] = imputer_modus.fit_transform(db_null[['CompletionTime(Hours)']])\n",
    "db_null['OfficialWebsite'] = imputer_modus.fit_transform(db_null[['OfficialWebsite']])"
   ]
  },
  {
   "cell_type": "code",
   "execution_count": 41,
   "id": "9f4e15e4",
   "metadata": {},
   "outputs": [
    {
     "data": {
      "text/plain": [
       "ID                       0\n",
       "GamePSID                 0\n",
       "GameName                 0\n",
       "Publisher                0\n",
       "ReleaseYear              0\n",
       "ReleaseDate              0\n",
       "Developer                0\n",
       "Genre                    0\n",
       "Features                 0\n",
       "Size                     0\n",
       "Medium                   0\n",
       "Hardware                 0\n",
       "CompletionTime(Hours)    0\n",
       "is_Digital_game          0\n",
       "is_Physical_game         0\n",
       "OfficialWebsite          0\n",
       "dtype: int64"
      ]
     },
     "execution_count": 41,
     "metadata": {},
     "output_type": "execute_result"
    }
   ],
   "source": [
    "db_null.isna().sum()"
   ]
  },
  {
   "cell_type": "markdown",
   "id": "121c86be",
   "metadata": {},
   "source": [
    "### Nilai Duplikat"
   ]
  },
  {
   "cell_type": "code",
   "execution_count": 42,
   "id": "47e273eb",
   "metadata": {},
   "outputs": [],
   "source": [
    "db_duplikat = db.copy()"
   ]
  },
  {
   "cell_type": "code",
   "execution_count": 43,
   "id": "70220ca8",
   "metadata": {},
   "outputs": [
    {
     "data": {
      "text/plain": [
       "6"
      ]
     },
     "execution_count": 43,
     "metadata": {},
     "output_type": "execute_result"
    }
   ],
   "source": [
    "db_duplikat.duplicated().sum()"
   ]
  },
  {
   "cell_type": "code",
   "execution_count": 44,
   "id": "eef9650c",
   "metadata": {},
   "outputs": [],
   "source": [
    "db_duplikat.drop_duplicates(inplace=True)"
   ]
  },
  {
   "cell_type": "code",
   "execution_count": 45,
   "id": "216d5097",
   "metadata": {},
   "outputs": [
    {
     "data": {
      "text/plain": [
       "0"
      ]
     },
     "execution_count": 45,
     "metadata": {},
     "output_type": "execute_result"
    }
   ],
   "source": [
    "db_duplikat.duplicated().sum()"
   ]
  },
  {
   "cell_type": "markdown",
   "id": "881e7ca9",
   "metadata": {},
   "source": [
    "### Mengganti Tipe Data"
   ]
  },
  {
   "cell_type": "code",
   "execution_count": 48,
   "id": "386883cb",
   "metadata": {},
   "outputs": [
    {
     "data": {
      "text/plain": [
       "ID                         int64\n",
       "GamePSID                   int64\n",
       "GameName                  object\n",
       "Publisher                 object\n",
       "ReleaseYear              float64\n",
       "ReleaseDate               object\n",
       "Developer                 object\n",
       "Genre                     object\n",
       "Features                  object\n",
       "Size                     float64\n",
       "Medium                    object\n",
       "Hardware                  object\n",
       "CompletionTime(Hours)     object\n",
       "is_Digital_game            int64\n",
       "is_Physical_game           int64\n",
       "OfficialWebsite           object\n",
       "dtype: object"
      ]
     },
     "execution_count": 48,
     "metadata": {},
     "output_type": "execute_result"
    }
   ],
   "source": [
    "db_duplikat.dtypes"
   ]
  },
  {
   "cell_type": "code",
   "execution_count": 49,
   "id": "78923d69",
   "metadata": {},
   "outputs": [
    {
     "data": {
      "text/plain": [
       "dtype('int32')"
      ]
     },
     "execution_count": 49,
     "metadata": {},
     "output_type": "execute_result"
    }
   ],
   "source": [
    "db_duplikat['is_Digital_game'].astype('int32').dtypes"
   ]
  },
  {
   "cell_type": "markdown",
   "id": "bfd27ea3",
   "metadata": {},
   "source": [
    "### One Hot Encoding"
   ]
  },
  {
   "cell_type": "code",
   "execution_count": 50,
   "id": "526d9255",
   "metadata": {},
   "outputs": [],
   "source": [
    "from sklearn.preprocessing import OneHotEncoder"
   ]
  },
  {
   "cell_type": "code",
   "execution_count": 51,
   "id": "75ed5ee3",
   "metadata": {},
   "outputs": [],
   "source": [
    "db_encoding = db.copy()"
   ]
  },
  {
   "cell_type": "code",
   "execution_count": 52,
   "id": "a0160593",
   "metadata": {},
   "outputs": [
    {
     "data": {
      "text/html": [
       "<div>\n",
       "<style scoped>\n",
       "    .dataframe tbody tr th:only-of-type {\n",
       "        vertical-align: middle;\n",
       "    }\n",
       "\n",
       "    .dataframe tbody tr th {\n",
       "        vertical-align: top;\n",
       "    }\n",
       "\n",
       "    .dataframe thead th {\n",
       "        text-align: right;\n",
       "    }\n",
       "</style>\n",
       "<table border=\"1\" class=\"dataframe\">\n",
       "  <thead>\n",
       "    <tr style=\"text-align: right;\">\n",
       "      <th></th>\n",
       "      <th>ID</th>\n",
       "      <th>GamePSID</th>\n",
       "      <th>GameName</th>\n",
       "      <th>Publisher</th>\n",
       "      <th>ReleaseYear</th>\n",
       "      <th>ReleaseDate</th>\n",
       "      <th>Developer</th>\n",
       "      <th>Genre</th>\n",
       "      <th>Features</th>\n",
       "      <th>Size</th>\n",
       "      <th>Medium</th>\n",
       "      <th>Hardware</th>\n",
       "      <th>CompletionTime(Hours)</th>\n",
       "      <th>is_Digital_game</th>\n",
       "      <th>is_Physical_game</th>\n",
       "      <th>OfficialWebsite</th>\n",
       "    </tr>\n",
       "  </thead>\n",
       "  <tbody>\n",
       "    <tr>\n",
       "      <th>0</th>\n",
       "      <td>1</td>\n",
       "      <td>3045</td>\n",
       "      <td>Q*Bert Rebooted</td>\n",
       "      <td>LOOT Interactive</td>\n",
       "      <td>2015.0</td>\n",
       "      <td>2015-02-17</td>\n",
       "      <td>Gonzo Games</td>\n",
       "      <td>Action</td>\n",
       "      <td>PS Plus, PS Now</td>\n",
       "      <td>109.00</td>\n",
       "      <td>NaN</td>\n",
       "      <td>NaN</td>\n",
       "      <td>NaN</td>\n",
       "      <td>0</td>\n",
       "      <td>0</td>\n",
       "      <td>http://www.sidelineamusements.com/qbert/</td>\n",
       "    </tr>\n",
       "    <tr>\n",
       "      <th>1</th>\n",
       "      <td>2</td>\n",
       "      <td>3051</td>\n",
       "      <td>Q*Bert Rebooted (EU)</td>\n",
       "      <td>LOOT Interactive</td>\n",
       "      <td>2015.0</td>\n",
       "      <td>2015-07-22</td>\n",
       "      <td>LOOT Interactive</td>\n",
       "      <td>Action</td>\n",
       "      <td>PS Now</td>\n",
       "      <td>127.00</td>\n",
       "      <td>Digital only</td>\n",
       "      <td>NaN</td>\n",
       "      <td>NaN</td>\n",
       "      <td>0</td>\n",
       "      <td>0</td>\n",
       "      <td>http://www.sidelineamusements.com/qbert/</td>\n",
       "    </tr>\n",
       "    <tr>\n",
       "      <th>2</th>\n",
       "      <td>3</td>\n",
       "      <td>6703</td>\n",
       "      <td>Q.U.B.E. 2</td>\n",
       "      <td>Trapped Nerve Games</td>\n",
       "      <td>2018.0</td>\n",
       "      <td>2018-03-13</td>\n",
       "      <td>Toxic Games</td>\n",
       "      <td>Puzzle, Platformer</td>\n",
       "      <td>NaN</td>\n",
       "      <td>2682.88</td>\n",
       "      <td>Digital only</td>\n",
       "      <td>NaN</td>\n",
       "      <td>NaN</td>\n",
       "      <td>0</td>\n",
       "      <td>0</td>\n",
       "      <td>http://qube-game.com/</td>\n",
       "    </tr>\n",
       "    <tr>\n",
       "      <th>3</th>\n",
       "      <td>4</td>\n",
       "      <td>3403</td>\n",
       "      <td>Q.U.B.E. Director's Cut</td>\n",
       "      <td>GRIP Digital</td>\n",
       "      <td>2015.0</td>\n",
       "      <td>2015-07-21</td>\n",
       "      <td>Toxic Games</td>\n",
       "      <td>Puzzle, Platformer</td>\n",
       "      <td>PS Plus</td>\n",
       "      <td>1945.60</td>\n",
       "      <td>Digital only</td>\n",
       "      <td>NaN</td>\n",
       "      <td>3-4</td>\n",
       "      <td>0</td>\n",
       "      <td>0</td>\n",
       "      <td>http://qube-game.com/</td>\n",
       "    </tr>\n",
       "    <tr>\n",
       "      <th>4</th>\n",
       "      <td>5</td>\n",
       "      <td>13176</td>\n",
       "      <td>Quake (PS4)</td>\n",
       "      <td>Bethesda Softworks</td>\n",
       "      <td>2021.0</td>\n",
       "      <td>2021-08-19</td>\n",
       "      <td>MachineGames, Nightdive Studios, id Software</td>\n",
       "      <td>First Person Shooter</td>\n",
       "      <td>NaN</td>\n",
       "      <td>NaN</td>\n",
       "      <td>Physical and Digital</td>\n",
       "      <td>NaN</td>\n",
       "      <td>NaN</td>\n",
       "      <td>0</td>\n",
       "      <td>0</td>\n",
       "      <td>https://bethesda.net/en/game/quake</td>\n",
       "    </tr>\n",
       "  </tbody>\n",
       "</table>\n",
       "</div>"
      ],
      "text/plain": [
       "   ID  GamePSID                 GameName            Publisher  ReleaseYear  \\\n",
       "0   1      3045          Q*Bert Rebooted     LOOT Interactive       2015.0   \n",
       "1   2      3051     Q*Bert Rebooted (EU)     LOOT Interactive       2015.0   \n",
       "2   3      6703               Q.U.B.E. 2  Trapped Nerve Games       2018.0   \n",
       "3   4      3403  Q.U.B.E. Director's Cut         GRIP Digital       2015.0   \n",
       "4   5     13176              Quake (PS4)   Bethesda Softworks       2021.0   \n",
       "\n",
       "  ReleaseDate                                     Developer  \\\n",
       "0  2015-02-17                                   Gonzo Games   \n",
       "1  2015-07-22                              LOOT Interactive   \n",
       "2  2018-03-13                                   Toxic Games   \n",
       "3  2015-07-21                                   Toxic Games   \n",
       "4  2021-08-19  MachineGames, Nightdive Studios, id Software   \n",
       "\n",
       "                  Genre         Features     Size                Medium  \\\n",
       "0                Action  PS Plus, PS Now   109.00                   NaN   \n",
       "1                Action           PS Now   127.00          Digital only   \n",
       "2    Puzzle, Platformer              NaN  2682.88          Digital only   \n",
       "3    Puzzle, Platformer          PS Plus  1945.60          Digital only   \n",
       "4  First Person Shooter              NaN      NaN  Physical and Digital   \n",
       "\n",
       "  Hardware CompletionTime(Hours)  is_Digital_game  is_Physical_game  \\\n",
       "0      NaN                   NaN                0                 0   \n",
       "1      NaN                   NaN                0                 0   \n",
       "2      NaN                   NaN                0                 0   \n",
       "3      NaN                   3-4                0                 0   \n",
       "4      NaN                   NaN                0                 0   \n",
       "\n",
       "                            OfficialWebsite  \n",
       "0  http://www.sidelineamusements.com/qbert/  \n",
       "1  http://www.sidelineamusements.com/qbert/  \n",
       "2                     http://qube-game.com/  \n",
       "3                     http://qube-game.com/  \n",
       "4        https://bethesda.net/en/game/quake  "
      ]
     },
     "execution_count": 52,
     "metadata": {},
     "output_type": "execute_result"
    }
   ],
   "source": [
    "db.head(5)"
   ]
  },
  {
   "cell_type": "code",
   "execution_count": 53,
   "id": "07ce253b",
   "metadata": {},
   "outputs": [],
   "source": [
    "db_oneHot_encoding = db_encoding.copy()"
   ]
  },
  {
   "cell_type": "code",
   "execution_count": 54,
   "id": "80c59dab",
   "metadata": {},
   "outputs": [],
   "source": [
    "temp_db = pd.get_dummies(db_oneHot_encoding[['ReleaseYear']])"
   ]
  },
  {
   "cell_type": "code",
   "execution_count": 55,
   "id": "21308dc6",
   "metadata": {},
   "outputs": [],
   "source": [
    "temp_db = pd.DataFrame(temp_db)"
   ]
  },
  {
   "cell_type": "code",
   "execution_count": 56,
   "id": "59c9a0a2",
   "metadata": {},
   "outputs": [],
   "source": [
    "db_oneHot_encoding.drop('ReleaseYear', axis=1, inplace=True)"
   ]
  },
  {
   "cell_type": "code",
   "execution_count": 57,
   "id": "f225e394",
   "metadata": {},
   "outputs": [
    {
     "data": {
      "text/html": [
       "<div>\n",
       "<style scoped>\n",
       "    .dataframe tbody tr th:only-of-type {\n",
       "        vertical-align: middle;\n",
       "    }\n",
       "\n",
       "    .dataframe tbody tr th {\n",
       "        vertical-align: top;\n",
       "    }\n",
       "\n",
       "    .dataframe thead th {\n",
       "        text-align: right;\n",
       "    }\n",
       "</style>\n",
       "<table border=\"1\" class=\"dataframe\">\n",
       "  <thead>\n",
       "    <tr style=\"text-align: right;\">\n",
       "      <th></th>\n",
       "      <th>ID</th>\n",
       "      <th>GamePSID</th>\n",
       "      <th>GameName</th>\n",
       "      <th>Publisher</th>\n",
       "      <th>ReleaseDate</th>\n",
       "      <th>Developer</th>\n",
       "      <th>Genre</th>\n",
       "      <th>Features</th>\n",
       "      <th>Size</th>\n",
       "      <th>Medium</th>\n",
       "      <th>Hardware</th>\n",
       "      <th>CompletionTime(Hours)</th>\n",
       "      <th>is_Digital_game</th>\n",
       "      <th>is_Physical_game</th>\n",
       "      <th>OfficialWebsite</th>\n",
       "    </tr>\n",
       "  </thead>\n",
       "  <tbody>\n",
       "    <tr>\n",
       "      <th>0</th>\n",
       "      <td>1</td>\n",
       "      <td>3045</td>\n",
       "      <td>Q*Bert Rebooted</td>\n",
       "      <td>LOOT Interactive</td>\n",
       "      <td>2015-02-17</td>\n",
       "      <td>Gonzo Games</td>\n",
       "      <td>Action</td>\n",
       "      <td>PS Plus, PS Now</td>\n",
       "      <td>109.00</td>\n",
       "      <td>NaN</td>\n",
       "      <td>NaN</td>\n",
       "      <td>NaN</td>\n",
       "      <td>0</td>\n",
       "      <td>0</td>\n",
       "      <td>http://www.sidelineamusements.com/qbert/</td>\n",
       "    </tr>\n",
       "    <tr>\n",
       "      <th>1</th>\n",
       "      <td>2</td>\n",
       "      <td>3051</td>\n",
       "      <td>Q*Bert Rebooted (EU)</td>\n",
       "      <td>LOOT Interactive</td>\n",
       "      <td>2015-07-22</td>\n",
       "      <td>LOOT Interactive</td>\n",
       "      <td>Action</td>\n",
       "      <td>PS Now</td>\n",
       "      <td>127.00</td>\n",
       "      <td>Digital only</td>\n",
       "      <td>NaN</td>\n",
       "      <td>NaN</td>\n",
       "      <td>0</td>\n",
       "      <td>0</td>\n",
       "      <td>http://www.sidelineamusements.com/qbert/</td>\n",
       "    </tr>\n",
       "    <tr>\n",
       "      <th>2</th>\n",
       "      <td>3</td>\n",
       "      <td>6703</td>\n",
       "      <td>Q.U.B.E. 2</td>\n",
       "      <td>Trapped Nerve Games</td>\n",
       "      <td>2018-03-13</td>\n",
       "      <td>Toxic Games</td>\n",
       "      <td>Puzzle, Platformer</td>\n",
       "      <td>NaN</td>\n",
       "      <td>2682.88</td>\n",
       "      <td>Digital only</td>\n",
       "      <td>NaN</td>\n",
       "      <td>NaN</td>\n",
       "      <td>0</td>\n",
       "      <td>0</td>\n",
       "      <td>http://qube-game.com/</td>\n",
       "    </tr>\n",
       "    <tr>\n",
       "      <th>3</th>\n",
       "      <td>4</td>\n",
       "      <td>3403</td>\n",
       "      <td>Q.U.B.E. Director's Cut</td>\n",
       "      <td>GRIP Digital</td>\n",
       "      <td>2015-07-21</td>\n",
       "      <td>Toxic Games</td>\n",
       "      <td>Puzzle, Platformer</td>\n",
       "      <td>PS Plus</td>\n",
       "      <td>1945.60</td>\n",
       "      <td>Digital only</td>\n",
       "      <td>NaN</td>\n",
       "      <td>3-4</td>\n",
       "      <td>0</td>\n",
       "      <td>0</td>\n",
       "      <td>http://qube-game.com/</td>\n",
       "    </tr>\n",
       "    <tr>\n",
       "      <th>4</th>\n",
       "      <td>5</td>\n",
       "      <td>13176</td>\n",
       "      <td>Quake (PS4)</td>\n",
       "      <td>Bethesda Softworks</td>\n",
       "      <td>2021-08-19</td>\n",
       "      <td>MachineGames, Nightdive Studios, id Software</td>\n",
       "      <td>First Person Shooter</td>\n",
       "      <td>NaN</td>\n",
       "      <td>NaN</td>\n",
       "      <td>Physical and Digital</td>\n",
       "      <td>NaN</td>\n",
       "      <td>NaN</td>\n",
       "      <td>0</td>\n",
       "      <td>0</td>\n",
       "      <td>https://bethesda.net/en/game/quake</td>\n",
       "    </tr>\n",
       "  </tbody>\n",
       "</table>\n",
       "</div>"
      ],
      "text/plain": [
       "   ID  GamePSID                 GameName            Publisher ReleaseDate  \\\n",
       "0   1      3045          Q*Bert Rebooted     LOOT Interactive  2015-02-17   \n",
       "1   2      3051     Q*Bert Rebooted (EU)     LOOT Interactive  2015-07-22   \n",
       "2   3      6703               Q.U.B.E. 2  Trapped Nerve Games  2018-03-13   \n",
       "3   4      3403  Q.U.B.E. Director's Cut         GRIP Digital  2015-07-21   \n",
       "4   5     13176              Quake (PS4)   Bethesda Softworks  2021-08-19   \n",
       "\n",
       "                                      Developer                 Genre  \\\n",
       "0                                   Gonzo Games                Action   \n",
       "1                              LOOT Interactive                Action   \n",
       "2                                   Toxic Games    Puzzle, Platformer   \n",
       "3                                   Toxic Games    Puzzle, Platformer   \n",
       "4  MachineGames, Nightdive Studios, id Software  First Person Shooter   \n",
       "\n",
       "          Features     Size                Medium Hardware  \\\n",
       "0  PS Plus, PS Now   109.00                   NaN      NaN   \n",
       "1           PS Now   127.00          Digital only      NaN   \n",
       "2              NaN  2682.88          Digital only      NaN   \n",
       "3          PS Plus  1945.60          Digital only      NaN   \n",
       "4              NaN      NaN  Physical and Digital      NaN   \n",
       "\n",
       "  CompletionTime(Hours)  is_Digital_game  is_Physical_game  \\\n",
       "0                   NaN                0                 0   \n",
       "1                   NaN                0                 0   \n",
       "2                   NaN                0                 0   \n",
       "3                   3-4                0                 0   \n",
       "4                   NaN                0                 0   \n",
       "\n",
       "                            OfficialWebsite  \n",
       "0  http://www.sidelineamusements.com/qbert/  \n",
       "1  http://www.sidelineamusements.com/qbert/  \n",
       "2                     http://qube-game.com/  \n",
       "3                     http://qube-game.com/  \n",
       "4        https://bethesda.net/en/game/quake  "
      ]
     },
     "execution_count": 57,
     "metadata": {},
     "output_type": "execute_result"
    }
   ],
   "source": [
    "db_oneHot_encoding.head(5)"
   ]
  },
  {
   "cell_type": "code",
   "execution_count": 58,
   "id": "85e5a952",
   "metadata": {},
   "outputs": [],
   "source": [
    "db.to_csv(\"PS 4 GAMES\", index=False)"
   ]
  }
 ],
 "metadata": {
  "kernelspec": {
   "display_name": "Python 3 (ipykernel)",
   "language": "python",
   "name": "python3"
  },
  "language_info": {
   "codemirror_mode": {
    "name": "ipython",
    "version": 3
   },
   "file_extension": ".py",
   "mimetype": "text/x-python",
   "name": "python",
   "nbconvert_exporter": "python",
   "pygments_lexer": "ipython3",
   "version": "3.10.7"
  }
 },
 "nbformat": 4,
 "nbformat_minor": 5
}
