{
 "cells": [
  {
   "cell_type": "markdown",
   "id": "48584138",
   "metadata": {},
   "source": [
    "# Posttest 5 Kecerdasan Buatan\n",
    "## Nama : Alinda Azzahra\n",
    "## NIM    : 2009106092"
   ]
  },
  {
   "cell_type": "markdown",
   "id": "b7ddc044",
   "metadata": {},
   "source": [
    "## Import package yang digunakan"
   ]
  },
  {
   "cell_type": "code",
   "execution_count": 1,
   "id": "3428e0f5",
   "metadata": {},
   "outputs": [],
   "source": [
    "import pandas as pd\n",
    "import numpy as np\n",
    "from sklearn.model_selection import train_test_split\n",
    "from sklearn.neighbors import KNeighborsClassifier\n",
    "from sklearn.metrics import accuracy_score\n",
    "import matplotlib.pyplot as plt\n",
    "from sklearn import datasets, linear_model\n",
    "from sklearn.metrics import mean_squared_error, r2_score, accuracy_score"
   ]
  },
  {
   "cell_type": "markdown",
   "id": "9d633196",
   "metadata": {},
   "source": [
    "## Memanggil dataset yang digunakan"
   ]
  },
  {
   "cell_type": "code",
   "execution_count": 2,
   "id": "ebb5aed5",
   "metadata": {},
   "outputs": [
    {
     "data": {
      "text/html": [
       "<div>\n",
       "<style scoped>\n",
       "    .dataframe tbody tr th:only-of-type {\n",
       "        vertical-align: middle;\n",
       "    }\n",
       "\n",
       "    .dataframe tbody tr th {\n",
       "        vertical-align: top;\n",
       "    }\n",
       "\n",
       "    .dataframe thead th {\n",
       "        text-align: right;\n",
       "    }\n",
       "</style>\n",
       "<table border=\"1\" class=\"dataframe\">\n",
       "  <thead>\n",
       "    <tr style=\"text-align: right;\">\n",
       "      <th></th>\n",
       "      <th>Customer ID</th>\n",
       "      <th>Customer Name</th>\n",
       "      <th>Segment</th>\n",
       "      <th>Age</th>\n",
       "      <th>Country</th>\n",
       "      <th>City</th>\n",
       "      <th>State</th>\n",
       "      <th>Postal Code</th>\n",
       "      <th>Region</th>\n",
       "    </tr>\n",
       "  </thead>\n",
       "  <tbody>\n",
       "    <tr>\n",
       "      <th>0</th>\n",
       "      <td>CG-12520</td>\n",
       "      <td>Claire Gute</td>\n",
       "      <td>Consumer</td>\n",
       "      <td>67</td>\n",
       "      <td>United States</td>\n",
       "      <td>Henderson</td>\n",
       "      <td>Kentucky</td>\n",
       "      <td>42420</td>\n",
       "      <td>South</td>\n",
       "    </tr>\n",
       "    <tr>\n",
       "      <th>1</th>\n",
       "      <td>DV-13045</td>\n",
       "      <td>Darrin Van Huff</td>\n",
       "      <td>Corporate</td>\n",
       "      <td>31</td>\n",
       "      <td>United States</td>\n",
       "      <td>Los Angeles</td>\n",
       "      <td>California</td>\n",
       "      <td>90036</td>\n",
       "      <td>West</td>\n",
       "    </tr>\n",
       "    <tr>\n",
       "      <th>2</th>\n",
       "      <td>SO-20335</td>\n",
       "      <td>Sean O'Donnell</td>\n",
       "      <td>Consumer</td>\n",
       "      <td>65</td>\n",
       "      <td>United States</td>\n",
       "      <td>Fort Lauderdale</td>\n",
       "      <td>Florida</td>\n",
       "      <td>33311</td>\n",
       "      <td>South</td>\n",
       "    </tr>\n",
       "    <tr>\n",
       "      <th>3</th>\n",
       "      <td>BH-11710</td>\n",
       "      <td>Brosina Hoffman</td>\n",
       "      <td>Consumer</td>\n",
       "      <td>20</td>\n",
       "      <td>United States</td>\n",
       "      <td>Los Angeles</td>\n",
       "      <td>California</td>\n",
       "      <td>90032</td>\n",
       "      <td>West</td>\n",
       "    </tr>\n",
       "    <tr>\n",
       "      <th>4</th>\n",
       "      <td>AA-10480</td>\n",
       "      <td>Andrew Allen</td>\n",
       "      <td>Consumer</td>\n",
       "      <td>50</td>\n",
       "      <td>United States</td>\n",
       "      <td>Concord</td>\n",
       "      <td>North Carolina</td>\n",
       "      <td>28027</td>\n",
       "      <td>South</td>\n",
       "    </tr>\n",
       "    <tr>\n",
       "      <th>...</th>\n",
       "      <td>...</td>\n",
       "      <td>...</td>\n",
       "      <td>...</td>\n",
       "      <td>...</td>\n",
       "      <td>...</td>\n",
       "      <td>...</td>\n",
       "      <td>...</td>\n",
       "      <td>...</td>\n",
       "      <td>...</td>\n",
       "    </tr>\n",
       "    <tr>\n",
       "      <th>788</th>\n",
       "      <td>CJ-11875</td>\n",
       "      <td>Carl Jackson</td>\n",
       "      <td>Corporate</td>\n",
       "      <td>64</td>\n",
       "      <td>United States</td>\n",
       "      <td>Philadelphia</td>\n",
       "      <td>Pennsylvania</td>\n",
       "      <td>19140</td>\n",
       "      <td>East</td>\n",
       "    </tr>\n",
       "    <tr>\n",
       "      <th>789</th>\n",
       "      <td>RS-19870</td>\n",
       "      <td>Roy Skaria</td>\n",
       "      <td>Home Office</td>\n",
       "      <td>39</td>\n",
       "      <td>United States</td>\n",
       "      <td>Burlington</td>\n",
       "      <td>Iowa</td>\n",
       "      <td>52601</td>\n",
       "      <td>Central</td>\n",
       "    </tr>\n",
       "    <tr>\n",
       "      <th>790</th>\n",
       "      <td>SC-20845</td>\n",
       "      <td>Sung Chung</td>\n",
       "      <td>Consumer</td>\n",
       "      <td>69</td>\n",
       "      <td>United States</td>\n",
       "      <td>Arlington Heights</td>\n",
       "      <td>Illinois</td>\n",
       "      <td>60004</td>\n",
       "      <td>Central</td>\n",
       "    </tr>\n",
       "    <tr>\n",
       "      <th>791</th>\n",
       "      <td>RE-19405</td>\n",
       "      <td>Ricardo Emerson</td>\n",
       "      <td>Consumer</td>\n",
       "      <td>35</td>\n",
       "      <td>United States</td>\n",
       "      <td>Kent</td>\n",
       "      <td>Ohio</td>\n",
       "      <td>44240</td>\n",
       "      <td>East</td>\n",
       "    </tr>\n",
       "    <tr>\n",
       "      <th>792</th>\n",
       "      <td>SM-20905</td>\n",
       "      <td>Susan MacKendrick</td>\n",
       "      <td>Consumer</td>\n",
       "      <td>46</td>\n",
       "      <td>United States</td>\n",
       "      <td>Newark</td>\n",
       "      <td>Ohio</td>\n",
       "      <td>43055</td>\n",
       "      <td>East</td>\n",
       "    </tr>\n",
       "  </tbody>\n",
       "</table>\n",
       "<p>793 rows × 9 columns</p>\n",
       "</div>"
      ],
      "text/plain": [
       "    Customer ID      Customer Name      Segment  Age        Country  \\\n",
       "0      CG-12520        Claire Gute     Consumer   67  United States   \n",
       "1      DV-13045    Darrin Van Huff    Corporate   31  United States   \n",
       "2      SO-20335     Sean O'Donnell     Consumer   65  United States   \n",
       "3      BH-11710    Brosina Hoffman     Consumer   20  United States   \n",
       "4      AA-10480       Andrew Allen     Consumer   50  United States   \n",
       "..          ...                ...          ...  ...            ...   \n",
       "788    CJ-11875       Carl Jackson    Corporate   64  United States   \n",
       "789    RS-19870         Roy Skaria  Home Office   39  United States   \n",
       "790    SC-20845         Sung Chung     Consumer   69  United States   \n",
       "791    RE-19405    Ricardo Emerson     Consumer   35  United States   \n",
       "792    SM-20905  Susan MacKendrick     Consumer   46  United States   \n",
       "\n",
       "                  City           State  Postal Code   Region  \n",
       "0            Henderson        Kentucky        42420    South  \n",
       "1          Los Angeles      California        90036     West  \n",
       "2      Fort Lauderdale         Florida        33311    South  \n",
       "3          Los Angeles      California        90032     West  \n",
       "4              Concord  North Carolina        28027    South  \n",
       "..                 ...             ...          ...      ...  \n",
       "788       Philadelphia    Pennsylvania        19140     East  \n",
       "789         Burlington            Iowa        52601  Central  \n",
       "790  Arlington Heights        Illinois        60004  Central  \n",
       "791               Kent            Ohio        44240     East  \n",
       "792             Newark            Ohio        43055     East  \n",
       "\n",
       "[793 rows x 9 columns]"
      ]
     },
     "execution_count": 2,
     "metadata": {},
     "output_type": "execute_result"
    }
   ],
   "source": [
    "db = pd.read_csv('Customer.csv')\n",
    "db"
   ]
  },
  {
   "cell_type": "markdown",
   "id": "517f227e",
   "metadata": {},
   "source": [
    "## Algoritma K-Nearest Neighbour (KNN)"
   ]
  },
  {
   "cell_type": "code",
   "execution_count": 3,
   "id": "95a3d925",
   "metadata": {},
   "outputs": [],
   "source": [
    "datadb_X = db[['Age', 'Postal Code']]\n",
    "labeldb_Y = db['Segment']"
   ]
  },
  {
   "cell_type": "code",
   "execution_count": 4,
   "id": "ceacd4a2",
   "metadata": {},
   "outputs": [],
   "source": [
    "x_traindb, x_testdb, y_traindb, y_testdb = train_test_split(datadb_X, labeldb_Y, test_size=1)"
   ]
  },
  {
   "cell_type": "code",
   "execution_count": 5,
   "id": "9ff75690",
   "metadata": {},
   "outputs": [],
   "source": [
    "cfr = KNeighborsClassifier(n_neighbors=5)"
   ]
  },
  {
   "cell_type": "code",
   "execution_count": 6,
   "id": "ac3508fc",
   "metadata": {},
   "outputs": [
    {
     "data": {
      "text/html": [
       "<style>#sk-container-id-1 {color: black;background-color: white;}#sk-container-id-1 pre{padding: 0;}#sk-container-id-1 div.sk-toggleable {background-color: white;}#sk-container-id-1 label.sk-toggleable__label {cursor: pointer;display: block;width: 100%;margin-bottom: 0;padding: 0.3em;box-sizing: border-box;text-align: center;}#sk-container-id-1 label.sk-toggleable__label-arrow:before {content: \"▸\";float: left;margin-right: 0.25em;color: #696969;}#sk-container-id-1 label.sk-toggleable__label-arrow:hover:before {color: black;}#sk-container-id-1 div.sk-estimator:hover label.sk-toggleable__label-arrow:before {color: black;}#sk-container-id-1 div.sk-toggleable__content {max-height: 0;max-width: 0;overflow: hidden;text-align: left;background-color: #f0f8ff;}#sk-container-id-1 div.sk-toggleable__content pre {margin: 0.2em;color: black;border-radius: 0.25em;background-color: #f0f8ff;}#sk-container-id-1 input.sk-toggleable__control:checked~div.sk-toggleable__content {max-height: 200px;max-width: 100%;overflow: auto;}#sk-container-id-1 input.sk-toggleable__control:checked~label.sk-toggleable__label-arrow:before {content: \"▾\";}#sk-container-id-1 div.sk-estimator input.sk-toggleable__control:checked~label.sk-toggleable__label {background-color: #d4ebff;}#sk-container-id-1 div.sk-label input.sk-toggleable__control:checked~label.sk-toggleable__label {background-color: #d4ebff;}#sk-container-id-1 input.sk-hidden--visually {border: 0;clip: rect(1px 1px 1px 1px);clip: rect(1px, 1px, 1px, 1px);height: 1px;margin: -1px;overflow: hidden;padding: 0;position: absolute;width: 1px;}#sk-container-id-1 div.sk-estimator {font-family: monospace;background-color: #f0f8ff;border: 1px dotted black;border-radius: 0.25em;box-sizing: border-box;margin-bottom: 0.5em;}#sk-container-id-1 div.sk-estimator:hover {background-color: #d4ebff;}#sk-container-id-1 div.sk-parallel-item::after {content: \"\";width: 100%;border-bottom: 1px solid gray;flex-grow: 1;}#sk-container-id-1 div.sk-label:hover label.sk-toggleable__label {background-color: #d4ebff;}#sk-container-id-1 div.sk-serial::before {content: \"\";position: absolute;border-left: 1px solid gray;box-sizing: border-box;top: 0;bottom: 0;left: 50%;z-index: 0;}#sk-container-id-1 div.sk-serial {display: flex;flex-direction: column;align-items: center;background-color: white;padding-right: 0.2em;padding-left: 0.2em;position: relative;}#sk-container-id-1 div.sk-item {position: relative;z-index: 1;}#sk-container-id-1 div.sk-parallel {display: flex;align-items: stretch;justify-content: center;background-color: white;position: relative;}#sk-container-id-1 div.sk-item::before, #sk-container-id-1 div.sk-parallel-item::before {content: \"\";position: absolute;border-left: 1px solid gray;box-sizing: border-box;top: 0;bottom: 0;left: 50%;z-index: -1;}#sk-container-id-1 div.sk-parallel-item {display: flex;flex-direction: column;z-index: 1;position: relative;background-color: white;}#sk-container-id-1 div.sk-parallel-item:first-child::after {align-self: flex-end;width: 50%;}#sk-container-id-1 div.sk-parallel-item:last-child::after {align-self: flex-start;width: 50%;}#sk-container-id-1 div.sk-parallel-item:only-child::after {width: 0;}#sk-container-id-1 div.sk-dashed-wrapped {border: 1px dashed gray;margin: 0 0.4em 0.5em 0.4em;box-sizing: border-box;padding-bottom: 0.4em;background-color: white;}#sk-container-id-1 div.sk-label label {font-family: monospace;font-weight: bold;display: inline-block;line-height: 1.2em;}#sk-container-id-1 div.sk-label-container {text-align: center;}#sk-container-id-1 div.sk-container {/* jupyter's `normalize.less` sets `[hidden] { display: none; }` but bootstrap.min.css set `[hidden] { display: none !important; }` so we also need the `!important` here to be able to override the default hidden behavior on the sphinx rendered scikit-learn.org. See: https://github.com/scikit-learn/scikit-learn/issues/21755 */display: inline-block !important;position: relative;}#sk-container-id-1 div.sk-text-repr-fallback {display: none;}</style><div id=\"sk-container-id-1\" class=\"sk-top-container\"><div class=\"sk-text-repr-fallback\"><pre>KNeighborsClassifier()</pre><b>In a Jupyter environment, please rerun this cell to show the HTML representation or trust the notebook. <br />On GitHub, the HTML representation is unable to render, please try loading this page with nbviewer.org.</b></div><div class=\"sk-container\" hidden><div class=\"sk-item\"><div class=\"sk-estimator sk-toggleable\"><input class=\"sk-toggleable__control sk-hidden--visually\" id=\"sk-estimator-id-1\" type=\"checkbox\" checked><label for=\"sk-estimator-id-1\" class=\"sk-toggleable__label sk-toggleable__label-arrow\">KNeighborsClassifier</label><div class=\"sk-toggleable__content\"><pre>KNeighborsClassifier()</pre></div></div></div></div></div>"
      ],
      "text/plain": [
       "KNeighborsClassifier()"
      ]
     },
     "execution_count": 6,
     "metadata": {},
     "output_type": "execute_result"
    }
   ],
   "source": [
    "cfr.fit(x_traindb, y_traindb)"
   ]
  },
  {
   "cell_type": "code",
   "execution_count": 7,
   "id": "f8c9d8f5",
   "metadata": {},
   "outputs": [],
   "source": [
    "prediksi_value = cfr.predict(x_testdb)\n",
    "akurasi = accuracy_score(y_testdb, prediksi_value)"
   ]
  },
  {
   "cell_type": "code",
   "execution_count": 8,
   "id": "81278923",
   "metadata": {},
   "outputs": [
    {
     "data": {
      "text/plain": [
       "array(['Consumer', 'Corporate', 'Home Office'], dtype=object)"
      ]
     },
     "execution_count": 8,
     "metadata": {},
     "output_type": "execute_result"
    }
   ],
   "source": [
    "db['Segment'].unique()"
   ]
  },
  {
   "cell_type": "code",
   "execution_count": 9,
   "id": "7230c519",
   "metadata": {},
   "outputs": [
    {
     "name": "stdout",
     "output_type": "stream",
     "text": [
      "Hasil Prediksi: ['Corporate']\n",
      "Class: 241    Corporate\n",
      "Name: Segment, dtype: object\n",
      "Akurasi: 1.0\n"
     ]
    }
   ],
   "source": [
    "print(f'Hasil Prediksi: {prediksi_value}',\n",
    "      f'Class: {y_testdb}',\n",
    "      f'Akurasi: {akurasi}',\n",
    "    sep='\\n'\n",
    ")"
   ]
  },
  {
   "cell_type": "code",
   "execution_count": 10,
   "id": "38117feb",
   "metadata": {},
   "outputs": [
    {
     "data": {
      "text/plain": [
       "1.0"
      ]
     },
     "execution_count": 10,
     "metadata": {},
     "output_type": "execute_result"
    }
   ],
   "source": [
    "cfr.score(x_testdb, y_testdb)"
   ]
  },
  {
   "cell_type": "markdown",
   "id": "ae3762bc",
   "metadata": {},
   "source": [
    "## Algoritma Linear Regression"
   ]
  },
  {
   "cell_type": "code",
   "execution_count": 11,
   "id": "46a50d2f",
   "metadata": {},
   "outputs": [],
   "source": [
    "data_x = db['Age']\n",
    "data_y = db['Postal Code']"
   ]
  },
  {
   "cell_type": "raw",
   "id": "e374f627",
   "metadata": {},
   "source": [
    "data_x = data_x.values.reshape(len(data_x),1)\n",
    "data_y = data_y.values.reshape(len(data_y),1)"
   ]
  },
  {
   "cell_type": "markdown",
   "id": "78d4bc18",
   "metadata": {},
   "source": [
    "### Data Training"
   ]
  },
  {
   "cell_type": "code",
   "execution_count": 12,
   "id": "8ec24d2e",
   "metadata": {},
   "outputs": [],
   "source": [
    "data_train = data_x[:-50]\n",
    "label_train = data_y[:-50]"
   ]
  },
  {
   "cell_type": "markdown",
   "id": "52afe07e",
   "metadata": {},
   "source": [
    "### Data Testing"
   ]
  },
  {
   "cell_type": "code",
   "execution_count": 13,
   "id": "1d54ad07",
   "metadata": {},
   "outputs": [],
   "source": [
    "data_test = data_x[-50:]\n",
    "label_test = data_y[-50:]"
   ]
  },
  {
   "cell_type": "code",
   "execution_count": 17,
   "id": "6b2f1a5e",
   "metadata": {},
   "outputs": [],
   "source": [
    "rg = linear_model.LinearRegression()"
   ]
  },
  {
   "cell_type": "code",
   "execution_count": 22,
   "id": "d1cf7a3e",
   "metadata": {},
   "outputs": [
    {
     "ename": "ValueError",
     "evalue": "Expected 2D array, got 1D array instead:\narray=[67 31 65 20 50 66 20 46 18 66 67 41 34 21 48 19 28 46 31 51 20 27 64 66\n 40 23 34 69 31 45 59 35 25 29 18 42 56 33 64 64 33 70 63 35 33 56 18 64\n 63 62 31 55 36 34 24 51 28 52 30 33 66 62 31 57 60 52 48 26 49 61 18 61\n 50 64 67 46 26 40 67 51 39 69 31 20 57 44 45 45 61 52 43 69 49 43 59 22\n 27 62 51 67 62 40 25 41 69 61 60 43 25 43 39 48 68 22 68 41 54 58 63 68\n 36 41 24 39 67 23 60 31 46 66 48 21 69 38 21 34 32 67 59 70 19 69 42 19\n 25 48 27 48 70 20 53 56 59 66 47 53 59 25 36 50 66 63 30 35 33 69 36 57\n 27 31 64 30 18 23 70 34 60 22 46 60 50 70 41 27 37 26 51 54 30 26 32 48\n 69 34 31 30 51 25 31 70 19 59 63 41 49 40 55 51 42 39 53 22 38 58 47 32\n 65 68 67 62 39 22 57 38 20 25 40 38 41 18 21 60 36 61 61 35 64 61 68 58\n 42 62 60 57 49 64 22 30 30 21 50 37 57 30 66 39 19 25 41 68 28 44 57 61\n 41 19 50 45 70 22 58 27 20 50 48 61 45 22 53 35 37 46 70 60 62 45 18 32\n 38 42 48 38 67 60 59 27 46 26 31 51 69 47 19 51 55 59 19 48 50 45 38 25\n 48 56 40 32 18 66 37 38 27 47 21 28 42 51 40 65 29 65 42 25 65 55 41 68\n 20 38 23 28 21 36 59 29 27 47 23 69 67 35 56 23 58 29 53 29 65 54 67 55\n 30 60 39 58 44 60 57 67 42 47 47 48 53 25 37 60 42 53 27 46 58 65 38 22\n 46 30 60 32 36 66 23 64 45 52 63 26 45 66 42 18 41 19 67 69 34 37 57 32\n 19 51 46 69 22 32 25 69 54 18 49 50 50 41 53 57 53 48 57 44 32 64 25 58\n 64 56 62 67 65 34 41 18 26 50 42 26 41 65 24 64 34 39 31 67 44 31 70 63\n 58 38 42 52 57 26 41 47 28 21 50 48 44 54 68 43 42 41 47 33 55 62 24 26\n 49 48 35 37 20 63 34 28 63 24 63 63 65 25 20 44 66 37 65 22 54 25 47 44\n 44 35 37 24 29 24 53 58 42 21 19 54 40 21 63 36 19 32 70 48 62 28 38 45\n 39 22 59 38 50 45 20 36 32 70 29 36 33 47 66 49 48 34 19 22 46 46 21 21\n 22 44 20 44 61 23 47 51 60 20 28 67 57 36 18 59 29 23 49 27 31 20 21 48\n 38 63 63 18 65 37 53 61 21 58 30 58 22 56 20 41 68 56 18 29 69 54 62 52\n 34 19 44 53 35 63 22 65 50 24 58 69 31 59 22 52 59 70 68 56 49 39 66 58\n 59 31 38 47 29 41 33 42 35 64 47 46 68 49 19 59 69 62 36 30 69 51 31 34\n 54 31 45 45 45 61 42 57 64 35 69 40 65 53 19 30 46 59 38 21 63 46 49 33\n 61 50 65 67 25 46 26 64 51 30 69 34 61 52 44 69 24 42 48 63 60 48 55 50\n 39 18 28 31 32 44 60 32 58 68 39 32 49 67 56 30 64 63 59 42 37 66 60 44\n 29 42 53 65 48 44 33 37 67 47 57 32 32 24 25 25 38 41 34 55 34 57 30].\nReshape your data either using array.reshape(-1, 1) if your data has a single feature or array.reshape(1, -1) if it contains a single sample.",
     "output_type": "error",
     "traceback": [
      "\u001b[1;31m---------------------------------------------------------------------------\u001b[0m",
      "\u001b[1;31mValueError\u001b[0m                                Traceback (most recent call last)",
      "Cell \u001b[1;32mIn [22], line 1\u001b[0m\n\u001b[1;32m----> 1\u001b[0m \u001b[43mrg\u001b[49m\u001b[38;5;241;43m.\u001b[39;49m\u001b[43mfit\u001b[49m\u001b[43m(\u001b[49m\u001b[43mdata_train\u001b[49m\u001b[43m,\u001b[49m\u001b[43m \u001b[49m\u001b[43mlabel_train\u001b[49m\u001b[43m)\u001b[49m\n",
      "File \u001b[1;32m~\\AppData\\Local\\Programs\\Python\\Python310\\lib\\site-packages\\sklearn\\linear_model\\_base.py:684\u001b[0m, in \u001b[0;36mLinearRegression.fit\u001b[1;34m(self, X, y, sample_weight)\u001b[0m\n\u001b[0;32m    680\u001b[0m n_jobs_ \u001b[38;5;241m=\u001b[39m \u001b[38;5;28mself\u001b[39m\u001b[38;5;241m.\u001b[39mn_jobs\n\u001b[0;32m    682\u001b[0m accept_sparse \u001b[38;5;241m=\u001b[39m \u001b[38;5;28;01mFalse\u001b[39;00m \u001b[38;5;28;01mif\u001b[39;00m \u001b[38;5;28mself\u001b[39m\u001b[38;5;241m.\u001b[39mpositive \u001b[38;5;28;01melse\u001b[39;00m [\u001b[38;5;124m\"\u001b[39m\u001b[38;5;124mcsr\u001b[39m\u001b[38;5;124m\"\u001b[39m, \u001b[38;5;124m\"\u001b[39m\u001b[38;5;124mcsc\u001b[39m\u001b[38;5;124m\"\u001b[39m, \u001b[38;5;124m\"\u001b[39m\u001b[38;5;124mcoo\u001b[39m\u001b[38;5;124m\"\u001b[39m]\n\u001b[1;32m--> 684\u001b[0m X, y \u001b[38;5;241m=\u001b[39m \u001b[38;5;28;43mself\u001b[39;49m\u001b[38;5;241;43m.\u001b[39;49m\u001b[43m_validate_data\u001b[49m\u001b[43m(\u001b[49m\n\u001b[0;32m    685\u001b[0m \u001b[43m    \u001b[49m\u001b[43mX\u001b[49m\u001b[43m,\u001b[49m\u001b[43m \u001b[49m\u001b[43my\u001b[49m\u001b[43m,\u001b[49m\u001b[43m \u001b[49m\u001b[43maccept_sparse\u001b[49m\u001b[38;5;241;43m=\u001b[39;49m\u001b[43maccept_sparse\u001b[49m\u001b[43m,\u001b[49m\u001b[43m \u001b[49m\u001b[43my_numeric\u001b[49m\u001b[38;5;241;43m=\u001b[39;49m\u001b[38;5;28;43;01mTrue\u001b[39;49;00m\u001b[43m,\u001b[49m\u001b[43m \u001b[49m\u001b[43mmulti_output\u001b[49m\u001b[38;5;241;43m=\u001b[39;49m\u001b[38;5;28;43;01mTrue\u001b[39;49;00m\n\u001b[0;32m    686\u001b[0m \u001b[43m\u001b[49m\u001b[43m)\u001b[49m\n\u001b[0;32m    688\u001b[0m sample_weight \u001b[38;5;241m=\u001b[39m _check_sample_weight(\n\u001b[0;32m    689\u001b[0m     sample_weight, X, dtype\u001b[38;5;241m=\u001b[39mX\u001b[38;5;241m.\u001b[39mdtype, only_non_negative\u001b[38;5;241m=\u001b[39m\u001b[38;5;28;01mTrue\u001b[39;00m\n\u001b[0;32m    690\u001b[0m )\n\u001b[0;32m    692\u001b[0m X, y, X_offset, y_offset, X_scale \u001b[38;5;241m=\u001b[39m _preprocess_data(\n\u001b[0;32m    693\u001b[0m     X,\n\u001b[0;32m    694\u001b[0m     y,\n\u001b[1;32m   (...)\u001b[0m\n\u001b[0;32m    698\u001b[0m     sample_weight\u001b[38;5;241m=\u001b[39msample_weight,\n\u001b[0;32m    699\u001b[0m )\n",
      "File \u001b[1;32m~\\AppData\\Local\\Programs\\Python\\Python310\\lib\\site-packages\\sklearn\\base.py:596\u001b[0m, in \u001b[0;36mBaseEstimator._validate_data\u001b[1;34m(self, X, y, reset, validate_separately, **check_params)\u001b[0m\n\u001b[0;32m    594\u001b[0m         y \u001b[38;5;241m=\u001b[39m check_array(y, input_name\u001b[38;5;241m=\u001b[39m\u001b[38;5;124m\"\u001b[39m\u001b[38;5;124my\u001b[39m\u001b[38;5;124m\"\u001b[39m, \u001b[38;5;241m*\u001b[39m\u001b[38;5;241m*\u001b[39mcheck_y_params)\n\u001b[0;32m    595\u001b[0m     \u001b[38;5;28;01melse\u001b[39;00m:\n\u001b[1;32m--> 596\u001b[0m         X, y \u001b[38;5;241m=\u001b[39m check_X_y(X, y, \u001b[38;5;241m*\u001b[39m\u001b[38;5;241m*\u001b[39mcheck_params)\n\u001b[0;32m    597\u001b[0m     out \u001b[38;5;241m=\u001b[39m X, y\n\u001b[0;32m    599\u001b[0m \u001b[38;5;28;01mif\u001b[39;00m \u001b[38;5;129;01mnot\u001b[39;00m no_val_X \u001b[38;5;129;01mand\u001b[39;00m check_params\u001b[38;5;241m.\u001b[39mget(\u001b[38;5;124m\"\u001b[39m\u001b[38;5;124mensure_2d\u001b[39m\u001b[38;5;124m\"\u001b[39m, \u001b[38;5;28;01mTrue\u001b[39;00m):\n",
      "File \u001b[1;32m~\\AppData\\Local\\Programs\\Python\\Python310\\lib\\site-packages\\sklearn\\utils\\validation.py:1074\u001b[0m, in \u001b[0;36mcheck_X_y\u001b[1;34m(X, y, accept_sparse, accept_large_sparse, dtype, order, copy, force_all_finite, ensure_2d, allow_nd, multi_output, ensure_min_samples, ensure_min_features, y_numeric, estimator)\u001b[0m\n\u001b[0;32m   1069\u001b[0m         estimator_name \u001b[38;5;241m=\u001b[39m _check_estimator_name(estimator)\n\u001b[0;32m   1070\u001b[0m     \u001b[38;5;28;01mraise\u001b[39;00m \u001b[38;5;167;01mValueError\u001b[39;00m(\n\u001b[0;32m   1071\u001b[0m         \u001b[38;5;124mf\u001b[39m\u001b[38;5;124m\"\u001b[39m\u001b[38;5;132;01m{\u001b[39;00mestimator_name\u001b[38;5;132;01m}\u001b[39;00m\u001b[38;5;124m requires y to be passed, but the target y is None\u001b[39m\u001b[38;5;124m\"\u001b[39m\n\u001b[0;32m   1072\u001b[0m     )\n\u001b[1;32m-> 1074\u001b[0m X \u001b[38;5;241m=\u001b[39m \u001b[43mcheck_array\u001b[49m\u001b[43m(\u001b[49m\n\u001b[0;32m   1075\u001b[0m \u001b[43m    \u001b[49m\u001b[43mX\u001b[49m\u001b[43m,\u001b[49m\n\u001b[0;32m   1076\u001b[0m \u001b[43m    \u001b[49m\u001b[43maccept_sparse\u001b[49m\u001b[38;5;241;43m=\u001b[39;49m\u001b[43maccept_sparse\u001b[49m\u001b[43m,\u001b[49m\n\u001b[0;32m   1077\u001b[0m \u001b[43m    \u001b[49m\u001b[43maccept_large_sparse\u001b[49m\u001b[38;5;241;43m=\u001b[39;49m\u001b[43maccept_large_sparse\u001b[49m\u001b[43m,\u001b[49m\n\u001b[0;32m   1078\u001b[0m \u001b[43m    \u001b[49m\u001b[43mdtype\u001b[49m\u001b[38;5;241;43m=\u001b[39;49m\u001b[43mdtype\u001b[49m\u001b[43m,\u001b[49m\n\u001b[0;32m   1079\u001b[0m \u001b[43m    \u001b[49m\u001b[43morder\u001b[49m\u001b[38;5;241;43m=\u001b[39;49m\u001b[43morder\u001b[49m\u001b[43m,\u001b[49m\n\u001b[0;32m   1080\u001b[0m \u001b[43m    \u001b[49m\u001b[43mcopy\u001b[49m\u001b[38;5;241;43m=\u001b[39;49m\u001b[43mcopy\u001b[49m\u001b[43m,\u001b[49m\n\u001b[0;32m   1081\u001b[0m \u001b[43m    \u001b[49m\u001b[43mforce_all_finite\u001b[49m\u001b[38;5;241;43m=\u001b[39;49m\u001b[43mforce_all_finite\u001b[49m\u001b[43m,\u001b[49m\n\u001b[0;32m   1082\u001b[0m \u001b[43m    \u001b[49m\u001b[43mensure_2d\u001b[49m\u001b[38;5;241;43m=\u001b[39;49m\u001b[43mensure_2d\u001b[49m\u001b[43m,\u001b[49m\n\u001b[0;32m   1083\u001b[0m \u001b[43m    \u001b[49m\u001b[43mallow_nd\u001b[49m\u001b[38;5;241;43m=\u001b[39;49m\u001b[43mallow_nd\u001b[49m\u001b[43m,\u001b[49m\n\u001b[0;32m   1084\u001b[0m \u001b[43m    \u001b[49m\u001b[43mensure_min_samples\u001b[49m\u001b[38;5;241;43m=\u001b[39;49m\u001b[43mensure_min_samples\u001b[49m\u001b[43m,\u001b[49m\n\u001b[0;32m   1085\u001b[0m \u001b[43m    \u001b[49m\u001b[43mensure_min_features\u001b[49m\u001b[38;5;241;43m=\u001b[39;49m\u001b[43mensure_min_features\u001b[49m\u001b[43m,\u001b[49m\n\u001b[0;32m   1086\u001b[0m \u001b[43m    \u001b[49m\u001b[43mestimator\u001b[49m\u001b[38;5;241;43m=\u001b[39;49m\u001b[43mestimator\u001b[49m\u001b[43m,\u001b[49m\n\u001b[0;32m   1087\u001b[0m \u001b[43m    \u001b[49m\u001b[43minput_name\u001b[49m\u001b[38;5;241;43m=\u001b[39;49m\u001b[38;5;124;43m\"\u001b[39;49m\u001b[38;5;124;43mX\u001b[39;49m\u001b[38;5;124;43m\"\u001b[39;49m\u001b[43m,\u001b[49m\n\u001b[0;32m   1088\u001b[0m \u001b[43m\u001b[49m\u001b[43m)\u001b[49m\n\u001b[0;32m   1090\u001b[0m y \u001b[38;5;241m=\u001b[39m _check_y(y, multi_output\u001b[38;5;241m=\u001b[39mmulti_output, y_numeric\u001b[38;5;241m=\u001b[39my_numeric, estimator\u001b[38;5;241m=\u001b[39mestimator)\n\u001b[0;32m   1092\u001b[0m check_consistent_length(X, y)\n",
      "File \u001b[1;32m~\\AppData\\Local\\Programs\\Python\\Python310\\lib\\site-packages\\sklearn\\utils\\validation.py:879\u001b[0m, in \u001b[0;36mcheck_array\u001b[1;34m(array, accept_sparse, accept_large_sparse, dtype, order, copy, force_all_finite, ensure_2d, allow_nd, ensure_min_samples, ensure_min_features, estimator, input_name)\u001b[0m\n\u001b[0;32m    877\u001b[0m     \u001b[38;5;66;03m# If input is 1D raise error\u001b[39;00m\n\u001b[0;32m    878\u001b[0m     \u001b[38;5;28;01mif\u001b[39;00m array\u001b[38;5;241m.\u001b[39mndim \u001b[38;5;241m==\u001b[39m \u001b[38;5;241m1\u001b[39m:\n\u001b[1;32m--> 879\u001b[0m         \u001b[38;5;28;01mraise\u001b[39;00m \u001b[38;5;167;01mValueError\u001b[39;00m(\n\u001b[0;32m    880\u001b[0m             \u001b[38;5;124m\"\u001b[39m\u001b[38;5;124mExpected 2D array, got 1D array instead:\u001b[39m\u001b[38;5;130;01m\\n\u001b[39;00m\u001b[38;5;124marray=\u001b[39m\u001b[38;5;132;01m{}\u001b[39;00m\u001b[38;5;124m.\u001b[39m\u001b[38;5;130;01m\\n\u001b[39;00m\u001b[38;5;124m\"\u001b[39m\n\u001b[0;32m    881\u001b[0m             \u001b[38;5;124m\"\u001b[39m\u001b[38;5;124mReshape your data either using array.reshape(-1, 1) if \u001b[39m\u001b[38;5;124m\"\u001b[39m\n\u001b[0;32m    882\u001b[0m             \u001b[38;5;124m\"\u001b[39m\u001b[38;5;124myour data has a single feature or array.reshape(1, -1) \u001b[39m\u001b[38;5;124m\"\u001b[39m\n\u001b[0;32m    883\u001b[0m             \u001b[38;5;124m\"\u001b[39m\u001b[38;5;124mif it contains a single sample.\u001b[39m\u001b[38;5;124m\"\u001b[39m\u001b[38;5;241m.\u001b[39mformat(array)\n\u001b[0;32m    884\u001b[0m         )\n\u001b[0;32m    886\u001b[0m \u001b[38;5;28;01mif\u001b[39;00m dtype_numeric \u001b[38;5;129;01mand\u001b[39;00m array\u001b[38;5;241m.\u001b[39mdtype\u001b[38;5;241m.\u001b[39mkind \u001b[38;5;129;01min\u001b[39;00m \u001b[38;5;124m\"\u001b[39m\u001b[38;5;124mUSV\u001b[39m\u001b[38;5;124m\"\u001b[39m:\n\u001b[0;32m    887\u001b[0m     \u001b[38;5;28;01mraise\u001b[39;00m \u001b[38;5;167;01mValueError\u001b[39;00m(\n\u001b[0;32m    888\u001b[0m         \u001b[38;5;124m\"\u001b[39m\u001b[38;5;124mdtype=\u001b[39m\u001b[38;5;124m'\u001b[39m\u001b[38;5;124mnumeric\u001b[39m\u001b[38;5;124m'\u001b[39m\u001b[38;5;124m is not compatible with arrays of bytes/strings.\u001b[39m\u001b[38;5;124m\"\u001b[39m\n\u001b[0;32m    889\u001b[0m         \u001b[38;5;124m\"\u001b[39m\u001b[38;5;124mConvert your data to numeric values explicitly instead.\u001b[39m\u001b[38;5;124m\"\u001b[39m\n\u001b[0;32m    890\u001b[0m     )\n",
      "\u001b[1;31mValueError\u001b[0m: Expected 2D array, got 1D array instead:\narray=[67 31 65 20 50 66 20 46 18 66 67 41 34 21 48 19 28 46 31 51 20 27 64 66\n 40 23 34 69 31 45 59 35 25 29 18 42 56 33 64 64 33 70 63 35 33 56 18 64\n 63 62 31 55 36 34 24 51 28 52 30 33 66 62 31 57 60 52 48 26 49 61 18 61\n 50 64 67 46 26 40 67 51 39 69 31 20 57 44 45 45 61 52 43 69 49 43 59 22\n 27 62 51 67 62 40 25 41 69 61 60 43 25 43 39 48 68 22 68 41 54 58 63 68\n 36 41 24 39 67 23 60 31 46 66 48 21 69 38 21 34 32 67 59 70 19 69 42 19\n 25 48 27 48 70 20 53 56 59 66 47 53 59 25 36 50 66 63 30 35 33 69 36 57\n 27 31 64 30 18 23 70 34 60 22 46 60 50 70 41 27 37 26 51 54 30 26 32 48\n 69 34 31 30 51 25 31 70 19 59 63 41 49 40 55 51 42 39 53 22 38 58 47 32\n 65 68 67 62 39 22 57 38 20 25 40 38 41 18 21 60 36 61 61 35 64 61 68 58\n 42 62 60 57 49 64 22 30 30 21 50 37 57 30 66 39 19 25 41 68 28 44 57 61\n 41 19 50 45 70 22 58 27 20 50 48 61 45 22 53 35 37 46 70 60 62 45 18 32\n 38 42 48 38 67 60 59 27 46 26 31 51 69 47 19 51 55 59 19 48 50 45 38 25\n 48 56 40 32 18 66 37 38 27 47 21 28 42 51 40 65 29 65 42 25 65 55 41 68\n 20 38 23 28 21 36 59 29 27 47 23 69 67 35 56 23 58 29 53 29 65 54 67 55\n 30 60 39 58 44 60 57 67 42 47 47 48 53 25 37 60 42 53 27 46 58 65 38 22\n 46 30 60 32 36 66 23 64 45 52 63 26 45 66 42 18 41 19 67 69 34 37 57 32\n 19 51 46 69 22 32 25 69 54 18 49 50 50 41 53 57 53 48 57 44 32 64 25 58\n 64 56 62 67 65 34 41 18 26 50 42 26 41 65 24 64 34 39 31 67 44 31 70 63\n 58 38 42 52 57 26 41 47 28 21 50 48 44 54 68 43 42 41 47 33 55 62 24 26\n 49 48 35 37 20 63 34 28 63 24 63 63 65 25 20 44 66 37 65 22 54 25 47 44\n 44 35 37 24 29 24 53 58 42 21 19 54 40 21 63 36 19 32 70 48 62 28 38 45\n 39 22 59 38 50 45 20 36 32 70 29 36 33 47 66 49 48 34 19 22 46 46 21 21\n 22 44 20 44 61 23 47 51 60 20 28 67 57 36 18 59 29 23 49 27 31 20 21 48\n 38 63 63 18 65 37 53 61 21 58 30 58 22 56 20 41 68 56 18 29 69 54 62 52\n 34 19 44 53 35 63 22 65 50 24 58 69 31 59 22 52 59 70 68 56 49 39 66 58\n 59 31 38 47 29 41 33 42 35 64 47 46 68 49 19 59 69 62 36 30 69 51 31 34\n 54 31 45 45 45 61 42 57 64 35 69 40 65 53 19 30 46 59 38 21 63 46 49 33\n 61 50 65 67 25 46 26 64 51 30 69 34 61 52 44 69 24 42 48 63 60 48 55 50\n 39 18 28 31 32 44 60 32 58 68 39 32 49 67 56 30 64 63 59 42 37 66 60 44\n 29 42 53 65 48 44 33 37 67 47 57 32 32 24 25 25 38 41 34 55 34 57 30].\nReshape your data either using array.reshape(-1, 1) if your data has a single feature or array.reshape(1, -1) if it contains a single sample."
     ]
    }
   ],
   "source": [
    "rg.fit(data_train, label_train)"
   ]
  },
  {
   "cell_type": "code",
   "execution_count": null,
   "id": "b4ebf7d5",
   "metadata": {},
   "outputs": [],
   "source": [
    "plt.scatter(data_test, label_test, color='pink')\n",
    "plt.plot(data_test, rg.predict(data_test), color='purple', linewidth=3)\n",
    "plt.show()"
   ]
  }
 ],
 "metadata": {
  "kernelspec": {
   "display_name": "Python 3 (ipykernel)",
   "language": "python",
   "name": "python3"
  },
  "language_info": {
   "codemirror_mode": {
    "name": "ipython",
    "version": 3
   },
   "file_extension": ".py",
   "mimetype": "text/x-python",
   "name": "python",
   "nbconvert_exporter": "python",
   "pygments_lexer": "ipython3",
   "version": "3.10.7"
  }
 },
 "nbformat": 4,
 "nbformat_minor": 5
}
