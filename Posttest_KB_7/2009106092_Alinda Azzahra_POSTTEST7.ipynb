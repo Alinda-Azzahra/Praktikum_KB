{
 "cells": [
  {
   "cell_type": "markdown",
   "id": "abeb17f5",
   "metadata": {},
   "source": [
    "# POSTTEST 7 \n",
    "## Nama : Alinda Azzahra\n",
    "## NIM    : 2009106092"
   ]
  },
  {
   "cell_type": "markdown",
   "id": "02fbbc3b",
   "metadata": {},
   "source": [
    "### Mengimport library"
   ]
  },
  {
   "cell_type": "code",
   "execution_count": 27,
   "id": "1c8a52b1",
   "metadata": {},
   "outputs": [],
   "source": [
    "import tensorflow as tf"
   ]
  },
  {
   "cell_type": "markdown",
   "id": "e119e4a2",
   "metadata": {},
   "source": [
    "### Membuat variabel dari nilai random dengan shape 5,5"
   ]
  },
  {
   "cell_type": "code",
   "execution_count": 28,
   "id": "9a174f32",
   "metadata": {},
   "outputs": [
    {
     "data": {
      "text/plain": [
       "<tf.Tensor: shape=(5, 5), dtype=float32, numpy=\n",
       "array([[ 0.26088262, -1.1665442 ,  0.55400825, -0.27793553, -0.24955325],\n",
       "       [ 0.581209  , -0.6680276 , -0.14766154,  0.20139614, -0.8269629 ],\n",
       "       [ 0.5781196 ,  0.8197328 , -0.8544065 ,  0.49225253,  0.6271775 ],\n",
       "       [ 0.22934127, -0.9878349 ,  0.12698117,  0.15517129, -0.69218296],\n",
       "       [ 0.5954512 ,  1.0592562 , -1.0577646 , -1.623136  ,  0.43469283]],\n",
       "      dtype=float32)>"
      ]
     },
     "execution_count": 28,
     "metadata": {},
     "output_type": "execute_result"
    }
   ],
   "source": [
    "random_tensor = tf.random.normal([5,5])\n",
    "random_tensor"
   ]
  },
  {
   "cell_type": "markdown",
   "id": "cdc64be3",
   "metadata": {},
   "source": [
    "### Membuat variabel dari bilangan prima dengan shape 5,5"
   ]
  },
  {
   "cell_type": "code",
   "execution_count": 29,
   "id": "a7e27c52",
   "metadata": {},
   "outputs": [
    {
     "data": {
      "text/plain": [
       "<tf.Tensor: shape=(5, 5), dtype=float32, numpy=\n",
       "array([[  2.,   3.,   5.,   7.,  11.],\n",
       "       [ 13.,  17.,  19.,  23.,  29.],\n",
       "       [ 31.,  37.,  41.,  43.,  47.],\n",
       "       [ 53.,  59.,  61.,  71.,  73.],\n",
       "       [ 79.,  83.,  89.,  97., 101.]], dtype=float32)>"
      ]
     },
     "execution_count": 29,
     "metadata": {},
     "output_type": "execute_result"
    }
   ],
   "source": [
    "lists = [[2, 3, 5, 7, 11], \n",
    "              [13, 17, 19, 23, 29], \n",
    "              [31, 37, 41, 43, 47], \n",
    "              [53, 59, 61, 71, 73], \n",
    "              [79, 83, 89, 97, 101]]\n",
    "\n",
    "prime_tensor = tf.convert_to_tensor(lists, dtype = tf.float32)\n",
    "prime_tensor"
   ]
  },
  {
   "cell_type": "markdown",
   "id": "ea2602b1",
   "metadata": {},
   "source": [
    "### Dimensi display dari random_tensor"
   ]
  },
  {
   "cell_type": "code",
   "execution_count": 72,
   "id": "f93707e9",
   "metadata": {},
   "outputs": [
    {
     "name": "stdout",
     "output_type": "stream",
     "text": [
      "(5, 5)\n",
      "(5, 5)\n",
      "tf.Tensor([5 5], shape=(2,), dtype=int32)\n"
     ]
    }
   ],
   "source": [
    "print(random_tensor.shape)\n",
    "print(random_tensor.get_shape())\n",
    "print(tf.shape(random_tensor))"
   ]
  },
  {
   "cell_type": "markdown",
   "id": "29375ba9",
   "metadata": {},
   "source": [
    "### Dimensi display dari prime_tensor"
   ]
  },
  {
   "cell_type": "code",
   "execution_count": 73,
   "id": "34b48ee0",
   "metadata": {},
   "outputs": [
    {
     "name": "stdout",
     "output_type": "stream",
     "text": [
      "(5, 5)\n",
      "(5, 5)\n",
      "tf.Tensor([5 5], shape=(2,), dtype=int32)\n"
     ]
    }
   ],
   "source": [
    "print(prime_tensor.shape)\n",
    "print(prime_tensor.get_shape())\n",
    "print(tf.shape(prime_tensor))"
   ]
  },
  {
   "cell_type": "markdown",
   "id": "12b59924",
   "metadata": {},
   "source": [
    "### Dimensi expansion dari random_tensor"
   ]
  },
  {
   "cell_type": "code",
   "execution_count": 70,
   "id": "bfc11bb4",
   "metadata": {},
   "outputs": [
    {
     "name": "stdout",
     "output_type": "stream",
     "text": [
      "(5, 1, 5)\n"
     ]
    }
   ],
   "source": [
    "expan1 = tf.expand_dims(random_tensor, axis=1)\n",
    "print(expan1.shape)"
   ]
  },
  {
   "cell_type": "markdown",
   "id": "171bbd06",
   "metadata": {},
   "source": [
    "### Dimensi expansion dari prime_tensor"
   ]
  },
  {
   "cell_type": "code",
   "execution_count": 71,
   "id": "ec45967b",
   "metadata": {},
   "outputs": [
    {
     "name": "stdout",
     "output_type": "stream",
     "text": [
      "(5, 5, 1)\n"
     ]
    }
   ],
   "source": [
    "expan2 = tf.expand_dims(prime_tensor, axis=2)\n",
    "print(expan2.shape)"
   ]
  },
  {
   "cell_type": "markdown",
   "id": "ad3ef8fe",
   "metadata": {},
   "source": [
    "### Dimensi squeezing dari random_tensor"
   ]
  },
  {
   "cell_type": "code",
   "execution_count": 74,
   "id": "162f5641",
   "metadata": {},
   "outputs": [
    {
     "name": "stdout",
     "output_type": "stream",
     "text": [
      "(5, 5)\n"
     ]
    }
   ],
   "source": [
    "squeeze1 = tf.squeeze(random_tensor)\n",
    "print(squeeze1.shape)"
   ]
  },
  {
   "cell_type": "markdown",
   "id": "62c76f5b",
   "metadata": {},
   "source": [
    "### Dimensi squeezing dari prime_tensor"
   ]
  },
  {
   "cell_type": "code",
   "execution_count": 75,
   "id": "ac79d258",
   "metadata": {},
   "outputs": [
    {
     "name": "stdout",
     "output_type": "stream",
     "text": [
      "(5, 5)\n"
     ]
    }
   ],
   "source": [
    "squeeze2 = tf.squeeze(prime_tensor)\n",
    "print(squeeze2.shape)"
   ]
  },
  {
   "cell_type": "markdown",
   "id": "e00532fd",
   "metadata": {},
   "source": [
    "### Dimensi transpose dari random_tensor dan prime_tensor"
   ]
  },
  {
   "cell_type": "code",
   "execution_count": 76,
   "id": "6af0ea61",
   "metadata": {},
   "outputs": [
    {
     "name": "stdout",
     "output_type": "stream",
     "text": [
      "(5, 5)\n",
      "(5, 5)\n"
     ]
    }
   ],
   "source": [
    "trans1 = tf.transpose(random_tensor)\n",
    "print(trans1.shape)\n",
    "\n",
    "trans2 = tf.transpose(prime_tensor)\n",
    "print(trans2.shape)"
   ]
  },
  {
   "cell_type": "markdown",
   "id": "373cadf4",
   "metadata": {},
   "source": [
    "### Penjumlahan"
   ]
  },
  {
   "cell_type": "code",
   "execution_count": 77,
   "id": "4d8eb718",
   "metadata": {},
   "outputs": [
    {
     "data": {
      "text/plain": [
       "<tf.Tensor: shape=(5, 5), dtype=float32, numpy=\n",
       "array([[  2.2608826,   1.8334558,   5.5540085,   6.7220645,  10.750446 ],\n",
       "       [ 13.581209 ,  16.331972 ,  18.852339 ,  23.201397 ,  28.173037 ],\n",
       "       [ 31.57812  ,  37.819733 ,  40.14559  ,  43.492252 ,  47.62718  ],\n",
       "       [ 53.22934  ,  58.012165 ,  61.12698  ,  71.155174 ,  72.307816 ],\n",
       "       [ 79.59545  ,  84.05926  ,  87.94224  ,  95.37686  , 101.43469  ]],\n",
       "      dtype=float32)>"
      ]
     },
     "execution_count": 77,
     "metadata": {},
     "output_type": "execute_result"
    }
   ],
   "source": [
    "tf.add(random_tensor, prime_tensor)"
   ]
  },
  {
   "cell_type": "markdown",
   "id": "cf174af0",
   "metadata": {},
   "source": [
    "### Pengurangan"
   ]
  },
  {
   "cell_type": "code",
   "execution_count": 78,
   "id": "88f1c26e",
   "metadata": {},
   "outputs": [
    {
     "data": {
      "text/plain": [
       "<tf.Tensor: shape=(5, 5), dtype=float32, numpy=\n",
       "array([[  -1.7391174,   -4.166544 ,   -4.4459915,   -7.2779355,\n",
       "         -11.249554 ],\n",
       "       [ -12.418791 ,  -17.668028 ,  -19.147661 ,  -22.798603 ,\n",
       "         -29.826963 ],\n",
       "       [ -30.42188  ,  -36.180267 ,  -41.85441  ,  -42.507748 ,\n",
       "         -46.37282  ],\n",
       "       [ -52.77066  ,  -59.987835 ,  -60.87302  ,  -70.844826 ,\n",
       "         -73.692184 ],\n",
       "       [ -78.40455  ,  -81.94074  ,  -90.05776  ,  -98.62314  ,\n",
       "        -100.56531  ]], dtype=float32)>"
      ]
     },
     "execution_count": 78,
     "metadata": {},
     "output_type": "execute_result"
    }
   ],
   "source": [
    "tf.subtract(random_tensor, prime_tensor)"
   ]
  },
  {
   "cell_type": "markdown",
   "id": "bc45e886",
   "metadata": {},
   "source": [
    "### Perkalian"
   ]
  },
  {
   "cell_type": "code",
   "execution_count": 79,
   "id": "6c45d42f",
   "metadata": {},
   "outputs": [
    {
     "data": {
      "text/plain": [
       "<tf.Tensor: shape=(5, 5), dtype=float32, numpy=\n",
       "array([[   0.52176523,   -3.4996326 ,    2.7700412 ,   -1.9455488 ,\n",
       "          -2.7450857 ],\n",
       "       [   7.555717  ,  -11.356469  ,   -2.8055692 ,    4.632111  ,\n",
       "         -23.981924  ],\n",
       "       [  17.921707  ,   30.330112  ,  -35.030666  ,   21.166859  ,\n",
       "          29.47734   ],\n",
       "       [  12.155087  ,  -58.282257  ,    7.7458515 ,   11.017161  ,\n",
       "         -50.529354  ],\n",
       "       [  47.04064   ,   87.91827   ,  -94.14105   , -157.4442    ,\n",
       "          43.903976  ]], dtype=float32)>"
      ]
     },
     "execution_count": 79,
     "metadata": {},
     "output_type": "execute_result"
    }
   ],
   "source": [
    "tf.multiply(random_tensor, prime_tensor)"
   ]
  },
  {
   "cell_type": "markdown",
   "id": "5002b117",
   "metadata": {},
   "source": [
    "### Pembagian "
   ]
  },
  {
   "cell_type": "code",
   "execution_count": 80,
   "id": "74aa2ccc",
   "metadata": {},
   "outputs": [
    {
     "data": {
      "text/plain": [
       "<tf.Tensor: shape=(5, 5), dtype=float32, numpy=\n",
       "array([[ 0.13044131, -0.38884807,  0.11080165, -0.03970508, -0.02268666],\n",
       "       [ 0.04470839, -0.03929574, -0.00777166,  0.00875635, -0.02851596],\n",
       "       [ 0.01864902,  0.02215494, -0.02083918,  0.01144773,  0.0133442 ],\n",
       "       [ 0.00432719, -0.01674296,  0.00208166,  0.00218551, -0.00948196],\n",
       "       [ 0.00753736,  0.01276212, -0.011885  , -0.01673336,  0.00430389]],\n",
       "      dtype=float32)>"
      ]
     },
     "execution_count": 80,
     "metadata": {},
     "output_type": "execute_result"
    }
   ],
   "source": [
    "tf.divide(random_tensor, prime_tensor)"
   ]
  },
  {
   "cell_type": "markdown",
   "id": "662984e9",
   "metadata": {},
   "source": [
    "### Logaritma dari random_tensor"
   ]
  },
  {
   "cell_type": "code",
   "execution_count": 81,
   "id": "9b6e53ff",
   "metadata": {},
   "outputs": [
    {
     "data": {
      "text/plain": [
       "<tf.Tensor: shape=(5, 5), dtype=float32, numpy=\n",
       "array([[-1.3436847 ,         nan, -0.5905757 ,         nan,         nan],\n",
       "       [-0.54264486,         nan,         nan, -1.6024815 ,         nan],\n",
       "       [-0.5479746 , -0.19877686,         nan, -0.7087634 , -0.46652573],\n",
       "       [-1.4725442 ,         nan, -2.0637164 , -1.8632257 ,         nan],\n",
       "       [-0.5184359 ,  0.05756696,         nan,         nan, -0.83311564]],\n",
       "      dtype=float32)>"
      ]
     },
     "execution_count": 81,
     "metadata": {},
     "output_type": "execute_result"
    }
   ],
   "source": [
    "tf.math.log(random_tensor)"
   ]
  },
  {
   "cell_type": "markdown",
   "id": "e66bee6d",
   "metadata": {},
   "source": [
    "### Logaritma dari prime_tensor"
   ]
  },
  {
   "cell_type": "code",
   "execution_count": 82,
   "id": "882c4dac",
   "metadata": {},
   "outputs": [
    {
     "data": {
      "text/plain": [
       "<tf.Tensor: shape=(5, 5), dtype=float32, numpy=\n",
       "array([[0.6931472, 1.0986123, 1.609438 , 1.9459102, 2.3978953],\n",
       "       [2.5649493, 2.8332133, 2.944439 , 3.1354942, 3.3672957],\n",
       "       [3.4339871, 3.610918 , 3.713572 , 3.7612002, 3.8501477],\n",
       "       [3.9702919, 4.0775375, 4.1108737, 4.26268  , 4.2904596],\n",
       "       [4.3694477, 4.4188404, 4.4886365, 4.574711 , 4.6151204]],\n",
       "      dtype=float32)>"
      ]
     },
     "execution_count": 82,
     "metadata": {},
     "output_type": "execute_result"
    }
   ],
   "source": [
    "tf.math.log(prime_tensor)"
   ]
  },
  {
   "cell_type": "markdown",
   "id": "1e0fecf5",
   "metadata": {},
   "source": [
    "### Pangkat "
   ]
  },
  {
   "cell_type": "code",
   "execution_count": 83,
   "id": "f0b60f4b",
   "metadata": {},
   "outputs": [
    {
     "data": {
      "text/plain": [
       "<tf.Tensor: shape=(5, 5), dtype=float32, numpy=\n",
       "array([[ 6.8059742e-02, -1.5874629e+00,  5.2189261e-02, -1.2811752e-04,\n",
       "        -2.3377362e-07],\n",
       "       [ 8.6361531e-04, -1.0507628e-03, -1.6446758e-16,  9.8441031e-17,\n",
       "        -4.0466399e-03],\n",
       "       [ 4.1932228e-08,  6.3955114e-04, -1.5785043e-03,  5.8087419e-14,\n",
       "         3.0015895e-10],\n",
       "       [ 1.2751379e-34, -4.8570976e-01,  0.0000000e+00,  0.0000000e+00,\n",
       "        -2.1683326e-12],\n",
       "       [ 1.6324746e-18,  1.1887324e+02, -1.4812396e+02, -2.5376248e+20,\n",
       "         2.8604221e-37]], dtype=float32)>"
      ]
     },
     "execution_count": 83,
     "metadata": {},
     "output_type": "execute_result"
    }
   ],
   "source": [
    "tf.pow(random_tensor, prime_tensor)"
   ]
  },
  {
   "cell_type": "markdown",
   "id": "01508177",
   "metadata": {},
   "source": [
    "### Matriks Multiplication"
   ]
  },
  {
   "cell_type": "code",
   "execution_count": 51,
   "id": "b7c6ad09",
   "metadata": {},
   "outputs": [
    {
     "data": {
      "text/plain": [
       "<tf.Tensor: shape=(5, 5), dtype=float32, numpy=\n",
       "array([[-31.914345, -35.661415, -37.309895, -45.12207 , -50.41586 ],\n",
       "       [-66.75552 , -71.83186 , -77.155136, -83.56189 , -88.74093 ],\n",
       "       [ 60.96257 ,  65.1554  ,  69.28105 ,  81.94736 ,  89.25382 ],\n",
       "       [-54.90513 , -59.702946, -64.55476 , -71.779205, -78.73932 ],\n",
       "       [-69.514946, -79.029106, -80.58886 , -90.03029 , -87.031494]],\n",
       "      dtype=float32)>"
      ]
     },
     "execution_count": 51,
     "metadata": {},
     "output_type": "execute_result"
    }
   ],
   "source": [
    "tf.matmul(random_tensor, prime_tensor)"
   ]
  },
  {
   "cell_type": "markdown",
   "id": "04f5bad5",
   "metadata": {},
   "source": [
    "### Nilai maksimal dari random_tensor dengan menggunakan axis 0 dan 1"
   ]
  },
  {
   "cell_type": "code",
   "execution_count": 91,
   "id": "6b891fd6",
   "metadata": {},
   "outputs": [
    {
     "data": {
      "text/plain": [
       "<tf.Tensor: shape=(5,), dtype=int64, numpy=array([4, 4, 0, 2, 2], dtype=int64)>"
      ]
     },
     "execution_count": 91,
     "metadata": {},
     "output_type": "execute_result"
    }
   ],
   "source": [
    "tf.argmax(random_tensor, axis = 0)"
   ]
  },
  {
   "cell_type": "code",
   "execution_count": 90,
   "id": "d01cde77",
   "metadata": {},
   "outputs": [
    {
     "data": {
      "text/plain": [
       "<tf.Tensor: shape=(5,), dtype=int64, numpy=array([2, 0, 1, 0, 1], dtype=int64)>"
      ]
     },
     "execution_count": 90,
     "metadata": {},
     "output_type": "execute_result"
    }
   ],
   "source": [
    "tf.argmax(random_tensor, axis = 1)"
   ]
  },
  {
   "cell_type": "markdown",
   "id": "ea9bbc45",
   "metadata": {},
   "source": [
    "### Nilai minimal dari random_tensor dengan menggunakan axis 0 dan 1"
   ]
  },
  {
   "cell_type": "code",
   "execution_count": 88,
   "id": "9d2ec9a4",
   "metadata": {},
   "outputs": [
    {
     "data": {
      "text/plain": [
       "<tf.Tensor: shape=(5,), dtype=int64, numpy=array([3, 0, 4, 4, 1], dtype=int64)>"
      ]
     },
     "execution_count": 88,
     "metadata": {},
     "output_type": "execute_result"
    }
   ],
   "source": [
    "tf.argmin(random_tensor, axis = 0)"
   ]
  },
  {
   "cell_type": "code",
   "execution_count": 89,
   "id": "f9353e65",
   "metadata": {},
   "outputs": [
    {
     "data": {
      "text/plain": [
       "<tf.Tensor: shape=(5,), dtype=int64, numpy=array([1, 4, 2, 1, 3], dtype=int64)>"
      ]
     },
     "execution_count": 89,
     "metadata": {},
     "output_type": "execute_result"
    }
   ],
   "source": [
    "tf.argmin(random_tensor, axis = 1)"
   ]
  },
  {
   "cell_type": "markdown",
   "id": "8d53e171",
   "metadata": {},
   "source": [
    "### Penggabungan antara variabel random_tensor dan prime_tensor menggunakan tf.concat"
   ]
  },
  {
   "cell_type": "code",
   "execution_count": 94,
   "id": "2a9cf009",
   "metadata": {},
   "outputs": [
    {
     "name": "stdout",
     "output_type": "stream",
     "text": [
      "(10, 5)\n",
      "tf.Tensor(\n",
      "[[  0.26088262  -1.1665442    0.55400825  -0.27793553  -0.24955325]\n",
      " [  0.581209    -0.6680276   -0.14766154   0.20139614  -0.8269629 ]\n",
      " [  0.5781196    0.8197328   -0.8544065    0.49225253   0.6271775 ]\n",
      " [  0.22934127  -0.9878349    0.12698117   0.15517129  -0.69218296]\n",
      " [  0.5954512    1.0592562   -1.0577646   -1.623136     0.43469283]\n",
      " [  2.           3.           5.           7.          11.        ]\n",
      " [ 13.          17.          19.          23.          29.        ]\n",
      " [ 31.          37.          41.          43.          47.        ]\n",
      " [ 53.          59.          61.          71.          73.        ]\n",
      " [ 79.          83.          89.          97.         101.        ]], shape=(10, 5), dtype=float32)\n"
     ]
    }
   ],
   "source": [
    "gabung1 = tf.concat([random_tensor, prime_tensor], axis = 0)\n",
    "print(gabung1.shape)\n",
    "print(gabung1)"
   ]
  },
  {
   "cell_type": "markdown",
   "id": "98fca240",
   "metadata": {},
   "source": [
    "### Penggabungan antara variabel random_tensor dan prime_tensor menggunakan tf.stack"
   ]
  },
  {
   "cell_type": "code",
   "execution_count": 93,
   "id": "28d12cac",
   "metadata": {},
   "outputs": [
    {
     "name": "stdout",
     "output_type": "stream",
     "text": [
      "(2, 5, 5)\n",
      "tf.Tensor(\n",
      "[[[  0.26088262  -1.1665442    0.55400825  -0.27793553  -0.24955325]\n",
      "  [  0.581209    -0.6680276   -0.14766154   0.20139614  -0.8269629 ]\n",
      "  [  0.5781196    0.8197328   -0.8544065    0.49225253   0.6271775 ]\n",
      "  [  0.22934127  -0.9878349    0.12698117   0.15517129  -0.69218296]\n",
      "  [  0.5954512    1.0592562   -1.0577646   -1.623136     0.43469283]]\n",
      "\n",
      " [[  2.           3.           5.           7.          11.        ]\n",
      "  [ 13.          17.          19.          23.          29.        ]\n",
      "  [ 31.          37.          41.          43.          47.        ]\n",
      "  [ 53.          59.          61.          71.          73.        ]\n",
      "  [ 79.          83.          89.          97.         101.        ]]], shape=(2, 5, 5), dtype=float32)\n"
     ]
    }
   ],
   "source": [
    "gabung2 = tf.stack([random_tensor, prime_tensor], axis = 0)\n",
    "print(gabung2.shape)\n",
    "print(gabung2)"
   ]
  },
  {
   "cell_type": "markdown",
   "id": "de9ce42c",
   "metadata": {},
   "source": [
    "### Sorting"
   ]
  },
  {
   "cell_type": "code",
   "execution_count": 95,
   "id": "168a1ed2",
   "metadata": {},
   "outputs": [
    {
     "data": {
      "text/plain": [
       "<tf.Tensor: shape=(10, 5), dtype=float32, numpy=\n",
       "array([[  0.55400825,   0.26088262,  -0.24955325,  -0.27793553,\n",
       "         -1.1665442 ],\n",
       "       [  0.581209  ,   0.20139614,  -0.14766154,  -0.6680276 ,\n",
       "         -0.8269629 ],\n",
       "       [  0.8197328 ,   0.6271775 ,   0.5781196 ,   0.49225253,\n",
       "         -0.8544065 ],\n",
       "       [  0.22934127,   0.15517129,   0.12698117,  -0.69218296,\n",
       "         -0.9878349 ],\n",
       "       [  1.0592562 ,   0.5954512 ,   0.43469283,  -1.0577646 ,\n",
       "         -1.623136  ],\n",
       "       [ 11.        ,   7.        ,   5.        ,   3.        ,\n",
       "          2.        ],\n",
       "       [ 29.        ,  23.        ,  19.        ,  17.        ,\n",
       "         13.        ],\n",
       "       [ 47.        ,  43.        ,  41.        ,  37.        ,\n",
       "         31.        ],\n",
       "       [ 73.        ,  71.        ,  61.        ,  59.        ,\n",
       "         53.        ],\n",
       "       [101.        ,  97.        ,  89.        ,  83.        ,\n",
       "         79.        ]], dtype=float32)>"
      ]
     },
     "execution_count": 95,
     "metadata": {},
     "output_type": "execute_result"
    }
   ],
   "source": [
    "tf.sort(gabung1, direction=\"DESCENDING\")"
   ]
  },
  {
   "cell_type": "code",
   "execution_count": 96,
   "id": "deabe69d",
   "metadata": {},
   "outputs": [
    {
     "data": {
      "text/plain": [
       "<tf.Tensor: shape=(10, 5), dtype=int32, numpy=\n",
       "array([[2, 0, 4, 3, 1],\n",
       "       [0, 3, 2, 1, 4],\n",
       "       [1, 4, 0, 3, 2],\n",
       "       [0, 3, 2, 4, 1],\n",
       "       [1, 0, 4, 2, 3],\n",
       "       [4, 3, 2, 1, 0],\n",
       "       [4, 3, 2, 1, 0],\n",
       "       [4, 3, 2, 1, 0],\n",
       "       [4, 3, 2, 1, 0],\n",
       "       [4, 3, 2, 1, 0]])>"
      ]
     },
     "execution_count": 96,
     "metadata": {},
     "output_type": "execute_result"
    }
   ],
   "source": [
    "tf.argsort(gabung1, direction=\"DESCENDING\")"
   ]
  },
  {
   "cell_type": "code",
   "execution_count": 97,
   "id": "61d2370d",
   "metadata": {},
   "outputs": [
    {
     "data": {
      "text/plain": [
       "<tf.Tensor: shape=(2, 5, 5), dtype=float32, numpy=\n",
       "array([[[  0.55400825,   0.26088262,  -0.24955325,  -0.27793553,\n",
       "          -1.1665442 ],\n",
       "        [  0.581209  ,   0.20139614,  -0.14766154,  -0.6680276 ,\n",
       "          -0.8269629 ],\n",
       "        [  0.8197328 ,   0.6271775 ,   0.5781196 ,   0.49225253,\n",
       "          -0.8544065 ],\n",
       "        [  0.22934127,   0.15517129,   0.12698117,  -0.69218296,\n",
       "          -0.9878349 ],\n",
       "        [  1.0592562 ,   0.5954512 ,   0.43469283,  -1.0577646 ,\n",
       "          -1.623136  ]],\n",
       "\n",
       "       [[ 11.        ,   7.        ,   5.        ,   3.        ,\n",
       "           2.        ],\n",
       "        [ 29.        ,  23.        ,  19.        ,  17.        ,\n",
       "          13.        ],\n",
       "        [ 47.        ,  43.        ,  41.        ,  37.        ,\n",
       "          31.        ],\n",
       "        [ 73.        ,  71.        ,  61.        ,  59.        ,\n",
       "          53.        ],\n",
       "        [101.        ,  97.        ,  89.        ,  83.        ,\n",
       "          79.        ]]], dtype=float32)>"
      ]
     },
     "execution_count": 97,
     "metadata": {},
     "output_type": "execute_result"
    }
   ],
   "source": [
    "tf.sort(gabung2, direction=\"DESCENDING\")"
   ]
  },
  {
   "cell_type": "code",
   "execution_count": 98,
   "id": "dba13818",
   "metadata": {},
   "outputs": [
    {
     "data": {
      "text/plain": [
       "<tf.Tensor: shape=(2, 5, 5), dtype=int32, numpy=\n",
       "array([[[2, 0, 4, 3, 1],\n",
       "        [0, 3, 2, 1, 4],\n",
       "        [1, 4, 0, 3, 2],\n",
       "        [0, 3, 2, 4, 1],\n",
       "        [1, 0, 4, 2, 3]],\n",
       "\n",
       "       [[4, 3, 2, 1, 0],\n",
       "        [4, 3, 2, 1, 0],\n",
       "        [4, 3, 2, 1, 0],\n",
       "        [4, 3, 2, 1, 0],\n",
       "        [4, 3, 2, 1, 0]]])>"
      ]
     },
     "execution_count": 98,
     "metadata": {},
     "output_type": "execute_result"
    }
   ],
   "source": [
    "tf.argsort(gabung2, direction=\"DESCENDING\")"
   ]
  }
 ],
 "metadata": {
  "kernelspec": {
   "display_name": "Python 3 (ipykernel)",
   "language": "python",
   "name": "python3"
  },
  "language_info": {
   "codemirror_mode": {
    "name": "ipython",
    "version": 3
   },
   "file_extension": ".py",
   "mimetype": "text/x-python",
   "name": "python",
   "nbconvert_exporter": "python",
   "pygments_lexer": "ipython3",
   "version": "3.10.7"
  }
 },
 "nbformat": 4,
 "nbformat_minor": 5
}
